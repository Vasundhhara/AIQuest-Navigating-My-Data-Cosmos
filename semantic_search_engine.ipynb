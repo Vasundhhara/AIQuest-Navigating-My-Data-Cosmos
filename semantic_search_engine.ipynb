{
  "nbformat": 4,
  "nbformat_minor": 0,
  "metadata": {
    "colab": {
      "provenance": [],
      "authorship_tag": "ABX9TyNcmMOUgYOfvgA4kpc/vUQW",
      "include_colab_link": true
    },
    "kernelspec": {
      "name": "python3",
      "display_name": "Python 3"
    },
    "language_info": {
      "name": "python"
    }
  },
  "cells": [
    {
      "cell_type": "markdown",
      "metadata": {
        "id": "view-in-github",
        "colab_type": "text"
      },
      "source": [
        "<a href=\"https://colab.research.google.com/github/Vasundhhara/semantic-search-engine/blob/main/semantic_search_engine.ipynb\" target=\"_parent\"><img src=\"https://colab.research.google.com/assets/colab-badge.svg\" alt=\"Open In Colab\"/></a>"
      ]
    },
    {
      "cell_type": "code",
      "source": [
        "!pip install openai -q"
      ],
      "metadata": {
        "id": "_tM5Kwa3_OQH",
        "colab": {
          "base_uri": "https://localhost:8080/"
        },
        "outputId": "30743c8e-e0f3-4a33-9611-3efef494a4e6"
      },
      "execution_count": 1,
      "outputs": [
        {
          "output_type": "stream",
          "name": "stdout",
          "text": [
            "\u001b[?25l     \u001b[90m━━━━━━━━━━━━━━━━━━━━━━━━━━━━━━━━━━━━━━━━\u001b[0m \u001b[32m0.0/73.6 kB\u001b[0m \u001b[31m?\u001b[0m eta \u001b[36m-:--:--\u001b[0m\r\u001b[2K     \u001b[91m━━━━━━━━━━━━━━━━━━━━━━━━━━━━━━━━━━━━━━\u001b[0m\u001b[91m╸\u001b[0m\u001b[90m━\u001b[0m \u001b[32m71.7/73.6 kB\u001b[0m \u001b[31m2.4 MB/s\u001b[0m eta \u001b[36m0:00:01\u001b[0m\r\u001b[2K     \u001b[90m━━━━━━━━━━━━━━━━━━━━━━━━━━━━━━━━━━━━━━━━\u001b[0m \u001b[32m73.6/73.6 kB\u001b[0m \u001b[31m1.8 MB/s\u001b[0m eta \u001b[36m0:00:00\u001b[0m\n",
            "\u001b[?25h"
          ]
        }
      ]
    },
    {
      "cell_type": "code",
      "source": [
        "import openai"
      ],
      "metadata": {
        "id": "EUiUMvJb_FcS"
      },
      "execution_count": 2,
      "outputs": []
    },
    {
      "cell_type": "code",
      "source": [
        "from getpass import getpass\n",
        "openai.api_key = getpass()"
      ],
      "metadata": {
        "id": "z255r0dmEsnc",
        "colab": {
          "base_uri": "https://localhost:8080/"
        },
        "outputId": "1465a1a3-ce71-44cd-f8ff-8ae076c04706"
      },
      "execution_count": 4,
      "outputs": [
        {
          "name": "stdout",
          "output_type": "stream",
          "text": [
            "··········\n"
          ]
        }
      ]
    },
    {
      "cell_type": "code",
      "source": [
        "def get_embedding(messages: str, model=\"text-embedding-ada-002\"):\n",
        "   messages = messages.replace(\"\\n\", \" \")\n",
        "   return openai.Embedding.create(input = [messages], model=model)['data'][0]['embedding']"
      ],
      "metadata": {
        "id": "hRR4p0tQ_0Np"
      },
      "execution_count": 7,
      "outputs": []
    },
    {
      "cell_type": "code",
      "source": [
        "import pandas as pd"
      ],
      "metadata": {
        "id": "r5RgMIL5_5KL"
      },
      "execution_count": 6,
      "outputs": []
    },
    {
      "cell_type": "code",
      "source": [
        "df = pd.read_csv('output_file.csv')"
      ],
      "metadata": {
        "id": "4JJODMyH_9ON"
      },
      "execution_count": null,
      "outputs": []
    },
    {
      "cell_type": "code",
      "source": [
        "df = df.dropna()"
      ],
      "metadata": {
        "id": "akLBKW_DJ7fT"
      },
      "execution_count": null,
      "outputs": []
    },
    {
      "cell_type": "code",
      "source": [
        "df = df.iloc[:-20]\n",
        "\n",
        "print(df)"
      ],
      "metadata": {
        "colab": {
          "base_uri": "https://localhost:8080/"
        },
        "id": "7XumzzDRyPDZ",
        "outputId": "53a07daf-55e7-4000-cc94-199f76979356"
      },
      "execution_count": null,
      "outputs": [
        {
          "output_type": "stream",
          "name": "stdout",
          "text": [
            "                                               messages\n",
            "0                              We all are hustling here\n",
            "1     Yeah I told you I will for sure.. Networking i...\n",
            "2     Anyways..... please let me know if you get to ...\n",
            "3                                          Will do that\n",
            "4                                             Yeah okay\n",
            "...                                                 ...\n",
            "1365                                             Oh, OK\n",
            "1366                         I'm doing this for myself \n",
            "1367              No it's not a part of any internship \n",
            "1368                                       That's great\n",
            "1369  I'm interested in developing business relation...\n",
            "\n",
            "[1307 rows x 1 columns]\n"
          ]
        }
      ]
    },
    {
      "cell_type": "code",
      "source": [
        "print(df)"
      ],
      "metadata": {
        "id": "aEjnvZ6FxSlz",
        "colab": {
          "base_uri": "https://localhost:8080/"
        },
        "outputId": "ff39fbe6-385f-4db9-e050-939c37b0ca0f"
      },
      "execution_count": null,
      "outputs": [
        {
          "output_type": "stream",
          "name": "stdout",
          "text": [
            "                                               messages\n",
            "0                              We all are hustling here\n",
            "1     Yeah I told you I will for sure.. Networking i...\n",
            "2     Anyways..... please let me know if you get to ...\n",
            "3                                          Will do that\n",
            "4                                             Yeah okay\n",
            "...                                                 ...\n",
            "1365                                             Oh, OK\n",
            "1366                         I'm doing this for myself \n",
            "1367              No it's not a part of any internship \n",
            "1368                                       That's great\n",
            "1369  I'm interested in developing business relation...\n",
            "\n",
            "[1307 rows x 1 columns]\n"
          ]
        }
      ]
    },
    {
      "cell_type": "code",
      "source": [
        "import string\n",
        "def contains_non_ascii(text):\n",
        "    return any(char not in string.ascii_letters + string.digits + string.punctuation + \" \" for char in text)\n",
        "\n",
        "# Apply the function to filter out messages with non-ASCII characters\n",
        "filtered_df = df[~df['messages'].apply(contains_non_ascii)]"
      ],
      "metadata": {
        "id": "Wbg8PmqafqV0"
      },
      "execution_count": null,
      "outputs": []
    },
    {
      "cell_type": "code",
      "source": [
        "print(filtered_df)"
      ],
      "metadata": {
        "colab": {
          "base_uri": "https://localhost:8080/"
        },
        "id": "7_KSHZPmfufM",
        "outputId": "b27f1025-58af-419c-d065-2da5afad6828"
      },
      "execution_count": null,
      "outputs": [
        {
          "output_type": "stream",
          "name": "stdout",
          "text": [
            "                                               messages\n",
            "0                              We all are hustling here\n",
            "1     Yeah I told you I will for sure.. Networking i...\n",
            "2     Anyways..... please let me know if you get to ...\n",
            "3                                          Will do that\n",
            "4                                             Yeah okay\n",
            "...                                                 ...\n",
            "1365                                             Oh, OK\n",
            "1366                         I'm doing this for myself \n",
            "1367              No it's not a part of any internship \n",
            "1368                                       That's great\n",
            "1369  I'm interested in developing business relation...\n",
            "\n",
            "[1193 rows x 1 columns]\n"
          ]
        }
      ]
    },
    {
      "cell_type": "code",
      "source": [
        "df=filtered_df"
      ],
      "metadata": {
        "id": "92olil3smwgo"
      },
      "execution_count": null,
      "outputs": []
    },
    {
      "cell_type": "code",
      "source": [
        "csv_filename = 'filtered_data.csv'\n",
        "df.to_csv(csv_filename, index=False)"
      ],
      "metadata": {
        "id": "bpdKZnJ6ohXx"
      },
      "execution_count": null,
      "outputs": []
    },
    {
      "cell_type": "code",
      "source": [
        "embeddings = []\n"
      ],
      "metadata": {
        "id": "LGdPHh-IAKz1"
      },
      "execution_count": 8,
      "outputs": []
    },
    {
      "cell_type": "code",
      "source": [
        "csv_filename = 'filtered_data.csv'\n",
        "df.to_csv(csv_filename, index=False)\n",
        "print(f'DataFrame saved to {csv_filename}')"
      ],
      "metadata": {
        "colab": {
          "base_uri": "https://localhost:8080/"
        },
        "id": "S71XeliRgaGa",
        "outputId": "ca46f487-a702-41c6-ee6a-f567f5db6358"
      },
      "execution_count": null,
      "outputs": [
        {
          "output_type": "stream",
          "name": "stdout",
          "text": [
            "DataFrame saved to filtered_data.csv\n"
          ]
        }
      ]
    },
    {
      "cell_type": "code",
      "source": [
        "for msg in df['messages']:\n",
        "    embeddings.append(get_embedding(msg))"
      ],
      "metadata": {
        "id": "GSbMQtQrAMSL"
      },
      "execution_count": null,
      "outputs": []
    },
    {
      "cell_type": "code",
      "source": [
        "df['embeddings'] = embeddings"
      ],
      "metadata": {
        "id": "oSWggfO3OetN"
      },
      "execution_count": null,
      "outputs": []
    },
    {
      "cell_type": "code",
      "source": [
        "df.to_csv('embedded_file.csv',index=False)"
      ],
      "metadata": {
        "id": "zNr6Z-1_OhUy"
      },
      "execution_count": null,
      "outputs": []
    },
    {
      "cell_type": "code",
      "source": [
        "df.head()"
      ],
      "metadata": {
        "id": "SFhTPqSTn6SH",
        "colab": {
          "base_uri": "https://localhost:8080/",
          "height": 206
        },
        "outputId": "a740a1b4-3d61-42ba-d63b-8db58f9544a0"
      },
      "execution_count": null,
      "outputs": [
        {
          "output_type": "execute_result",
          "data": {
            "text/plain": [
              "                                            messages  \\\n",
              "0                           We all are hustling here   \n",
              "1  Yeah I told you I will for sure.. Networking i...   \n",
              "2  Anyways..... please let me know if you get to ...   \n",
              "3                                       Will do that   \n",
              "4                                          Yeah okay   \n",
              "\n",
              "                                          embeddings  \n",
              "0  [-0.02959604375064373, -0.001954703126102686, ...  \n",
              "1  [-0.0188064593821764, -0.005029025487601757, 0...  \n",
              "2  [-0.028831681236624718, -0.017356514930725098,...  \n",
              "3  [-0.021943015977740288, -0.002296175342053175,...  \n",
              "4  [-0.0006003823364153504, -0.013631971552968025...  "
            ],
            "text/html": [
              "\n",
              "  <div id=\"df-d82dca1a-050f-4863-8e6c-8a54d9f59b78\" class=\"colab-df-container\">\n",
              "    <div>\n",
              "<style scoped>\n",
              "    .dataframe tbody tr th:only-of-type {\n",
              "        vertical-align: middle;\n",
              "    }\n",
              "\n",
              "    .dataframe tbody tr th {\n",
              "        vertical-align: top;\n",
              "    }\n",
              "\n",
              "    .dataframe thead th {\n",
              "        text-align: right;\n",
              "    }\n",
              "</style>\n",
              "<table border=\"1\" class=\"dataframe\">\n",
              "  <thead>\n",
              "    <tr style=\"text-align: right;\">\n",
              "      <th></th>\n",
              "      <th>messages</th>\n",
              "      <th>embeddings</th>\n",
              "    </tr>\n",
              "  </thead>\n",
              "  <tbody>\n",
              "    <tr>\n",
              "      <th>0</th>\n",
              "      <td>We all are hustling here</td>\n",
              "      <td>[-0.02959604375064373, -0.001954703126102686, ...</td>\n",
              "    </tr>\n",
              "    <tr>\n",
              "      <th>1</th>\n",
              "      <td>Yeah I told you I will for sure.. Networking i...</td>\n",
              "      <td>[-0.0188064593821764, -0.005029025487601757, 0...</td>\n",
              "    </tr>\n",
              "    <tr>\n",
              "      <th>2</th>\n",
              "      <td>Anyways..... please let me know if you get to ...</td>\n",
              "      <td>[-0.028831681236624718, -0.017356514930725098,...</td>\n",
              "    </tr>\n",
              "    <tr>\n",
              "      <th>3</th>\n",
              "      <td>Will do that</td>\n",
              "      <td>[-0.021943015977740288, -0.002296175342053175,...</td>\n",
              "    </tr>\n",
              "    <tr>\n",
              "      <th>4</th>\n",
              "      <td>Yeah okay</td>\n",
              "      <td>[-0.0006003823364153504, -0.013631971552968025...</td>\n",
              "    </tr>\n",
              "  </tbody>\n",
              "</table>\n",
              "</div>\n",
              "    <div class=\"colab-df-buttons\">\n",
              "\n",
              "  <div class=\"colab-df-container\">\n",
              "    <button class=\"colab-df-convert\" onclick=\"convertToInteractive('df-d82dca1a-050f-4863-8e6c-8a54d9f59b78')\"\n",
              "            title=\"Convert this dataframe to an interactive table.\"\n",
              "            style=\"display:none;\">\n",
              "\n",
              "  <svg xmlns=\"http://www.w3.org/2000/svg\" height=\"24px\" viewBox=\"0 -960 960 960\">\n",
              "    <path d=\"M120-120v-720h720v720H120Zm60-500h600v-160H180v160Zm220 220h160v-160H400v160Zm0 220h160v-160H400v160ZM180-400h160v-160H180v160Zm440 0h160v-160H620v160ZM180-180h160v-160H180v160Zm440 0h160v-160H620v160Z\"/>\n",
              "  </svg>\n",
              "    </button>\n",
              "\n",
              "  <style>\n",
              "    .colab-df-container {\n",
              "      display:flex;\n",
              "      gap: 12px;\n",
              "    }\n",
              "\n",
              "    .colab-df-convert {\n",
              "      background-color: #E8F0FE;\n",
              "      border: none;\n",
              "      border-radius: 50%;\n",
              "      cursor: pointer;\n",
              "      display: none;\n",
              "      fill: #1967D2;\n",
              "      height: 32px;\n",
              "      padding: 0 0 0 0;\n",
              "      width: 32px;\n",
              "    }\n",
              "\n",
              "    .colab-df-convert:hover {\n",
              "      background-color: #E2EBFA;\n",
              "      box-shadow: 0px 1px 2px rgba(60, 64, 67, 0.3), 0px 1px 3px 1px rgba(60, 64, 67, 0.15);\n",
              "      fill: #174EA6;\n",
              "    }\n",
              "\n",
              "    .colab-df-buttons div {\n",
              "      margin-bottom: 4px;\n",
              "    }\n",
              "\n",
              "    [theme=dark] .colab-df-convert {\n",
              "      background-color: #3B4455;\n",
              "      fill: #D2E3FC;\n",
              "    }\n",
              "\n",
              "    [theme=dark] .colab-df-convert:hover {\n",
              "      background-color: #434B5C;\n",
              "      box-shadow: 0px 1px 3px 1px rgba(0, 0, 0, 0.15);\n",
              "      filter: drop-shadow(0px 1px 2px rgba(0, 0, 0, 0.3));\n",
              "      fill: #FFFFFF;\n",
              "    }\n",
              "  </style>\n",
              "\n",
              "    <script>\n",
              "      const buttonEl =\n",
              "        document.querySelector('#df-d82dca1a-050f-4863-8e6c-8a54d9f59b78 button.colab-df-convert');\n",
              "      buttonEl.style.display =\n",
              "        google.colab.kernel.accessAllowed ? 'block' : 'none';\n",
              "\n",
              "      async function convertToInteractive(key) {\n",
              "        const element = document.querySelector('#df-d82dca1a-050f-4863-8e6c-8a54d9f59b78');\n",
              "        const dataTable =\n",
              "          await google.colab.kernel.invokeFunction('convertToInteractive',\n",
              "                                                    [key], {});\n",
              "        if (!dataTable) return;\n",
              "\n",
              "        const docLinkHtml = 'Like what you see? Visit the ' +\n",
              "          '<a target=\"_blank\" href=https://colab.research.google.com/notebooks/data_table.ipynb>data table notebook</a>'\n",
              "          + ' to learn more about interactive tables.';\n",
              "        element.innerHTML = '';\n",
              "        dataTable['output_type'] = 'display_data';\n",
              "        await google.colab.output.renderOutput(dataTable, element);\n",
              "        const docLink = document.createElement('div');\n",
              "        docLink.innerHTML = docLinkHtml;\n",
              "        element.appendChild(docLink);\n",
              "      }\n",
              "    </script>\n",
              "  </div>\n",
              "\n",
              "\n",
              "<div id=\"df-c65e4ae0-5faa-4832-8ff1-dcacc9942a49\">\n",
              "  <button class=\"colab-df-quickchart\" onclick=\"quickchart('df-c65e4ae0-5faa-4832-8ff1-dcacc9942a49')\"\n",
              "            title=\"Suggest charts.\"\n",
              "            style=\"display:none;\">\n",
              "\n",
              "<svg xmlns=\"http://www.w3.org/2000/svg\" height=\"24px\"viewBox=\"0 0 24 24\"\n",
              "     width=\"24px\">\n",
              "    <g>\n",
              "        <path d=\"M19 3H5c-1.1 0-2 .9-2 2v14c0 1.1.9 2 2 2h14c1.1 0 2-.9 2-2V5c0-1.1-.9-2-2-2zM9 17H7v-7h2v7zm4 0h-2V7h2v10zm4 0h-2v-4h2v4z\"/>\n",
              "    </g>\n",
              "</svg>\n",
              "  </button>\n",
              "\n",
              "<style>\n",
              "  .colab-df-quickchart {\n",
              "    background-color: #E8F0FE;\n",
              "    border: none;\n",
              "    border-radius: 50%;\n",
              "    cursor: pointer;\n",
              "    display: none;\n",
              "    fill: #1967D2;\n",
              "    height: 32px;\n",
              "    padding: 0 0 0 0;\n",
              "    width: 32px;\n",
              "  }\n",
              "\n",
              "  .colab-df-quickchart:hover {\n",
              "    background-color: #E2EBFA;\n",
              "    box-shadow: 0px 1px 2px rgba(60, 64, 67, 0.3), 0px 1px 3px 1px rgba(60, 64, 67, 0.15);\n",
              "    fill: #174EA6;\n",
              "  }\n",
              "\n",
              "  [theme=dark] .colab-df-quickchart {\n",
              "    background-color: #3B4455;\n",
              "    fill: #D2E3FC;\n",
              "  }\n",
              "\n",
              "  [theme=dark] .colab-df-quickchart:hover {\n",
              "    background-color: #434B5C;\n",
              "    box-shadow: 0px 1px 3px 1px rgba(0, 0, 0, 0.15);\n",
              "    filter: drop-shadow(0px 1px 2px rgba(0, 0, 0, 0.3));\n",
              "    fill: #FFFFFF;\n",
              "  }\n",
              "</style>\n",
              "\n",
              "  <script>\n",
              "    async function quickchart(key) {\n",
              "      const charts = await google.colab.kernel.invokeFunction(\n",
              "          'suggestCharts', [key], {});\n",
              "    }\n",
              "    (() => {\n",
              "      let quickchartButtonEl =\n",
              "        document.querySelector('#df-c65e4ae0-5faa-4832-8ff1-dcacc9942a49 button');\n",
              "      quickchartButtonEl.style.display =\n",
              "        google.colab.kernel.accessAllowed ? 'block' : 'none';\n",
              "    })();\n",
              "  </script>\n",
              "</div>\n",
              "    </div>\n",
              "  </div>\n"
            ]
          },
          "metadata": {},
          "execution_count": 86
        }
      ]
    },
    {
      "cell_type": "code",
      "source": [
        "df = pd.read_csv('embedded_file.csv')"
      ],
      "metadata": {
        "id": "5wvyrxJSn7HN"
      },
      "execution_count": null,
      "outputs": []
    },
    {
      "cell_type": "code",
      "source": [
        "embeddings = df['embeddings']"
      ],
      "metadata": {
        "id": "YcW7dL6kn_lh"
      },
      "execution_count": null,
      "outputs": []
    },
    {
      "cell_type": "code",
      "source": [
        "new_embeddings = []\n",
        "# convert the string representation of the lists to a list of floats\n",
        "for e in embeddings:\n",
        "    new_embeddings.append([float(x) for x in e[1:-1].split(',')])"
      ],
      "metadata": {
        "id": "POlp7keSoClU"
      },
      "execution_count": null,
      "outputs": []
    },
    {
      "cell_type": "code",
      "source": [
        "df['embeddings'] = new_embeddings\n",
        "print(df.head())"
      ],
      "metadata": {
        "id": "9LJDSTbToGjj",
        "colab": {
          "base_uri": "https://localhost:8080/"
        },
        "outputId": "e9f97b38-bb8e-4289-94bc-bbd465ca3a45"
      },
      "execution_count": null,
      "outputs": [
        {
          "output_type": "stream",
          "name": "stdout",
          "text": [
            "   Unnamed: 0.1  Unnamed: 0  \\\n",
            "0             0           0   \n",
            "1             1           1   \n",
            "2             2           2   \n",
            "3             3           3   \n",
            "4             4           4   \n",
            "\n",
            "                                            messages  \\\n",
            "0                           We all are hustling here   \n",
            "1  Yeah I told you I will for sure.. Networking i...   \n",
            "2  Anyways..... please let me know if you get to ...   \n",
            "3                                       Will do that   \n",
            "4                                          Yeah okay   \n",
            "\n",
            "                                          embeddings  \n",
            "0  [-0.02959604375064373, -0.001954703126102686, ...  \n",
            "1  [-0.0188064593821764, -0.005029025487601757, 0...  \n",
            "2  [-0.028831681236624718, -0.017356514930725098,...  \n",
            "3  [-0.021940890699625015, -0.0023069444578140974...  \n",
            "4  [-0.0006003823364153504, -0.013631971552968025...  \n"
          ]
        }
      ]
    },
    {
      "cell_type": "code",
      "source": [
        "print(len(df['embeddings'][0]))"
      ],
      "metadata": {
        "id": "LcY0Gh54oJiU",
        "colab": {
          "base_uri": "https://localhost:8080/"
        },
        "outputId": "53b20f23-eb80-44d4-fa4a-d5c0159dc41d"
      },
      "execution_count": null,
      "outputs": [
        {
          "output_type": "stream",
          "name": "stdout",
          "text": [
            "1536\n"
          ]
        }
      ]
    },
    {
      "cell_type": "code",
      "source": [
        "df.to_csv(\"final_embeddings.csv\")"
      ],
      "metadata": {
        "id": "8S6GqhVUoMOq"
      },
      "execution_count": null,
      "outputs": []
    },
    {
      "cell_type": "code",
      "source": [
        "df.shape"
      ],
      "metadata": {
        "id": "qgL5pirZoOgq",
        "colab": {
          "base_uri": "https://localhost:8080/"
        },
        "outputId": "f2d54b46-63b4-42be-8064-39feabcf8d92"
      },
      "execution_count": null,
      "outputs": [
        {
          "output_type": "execute_result",
          "data": {
            "text/plain": [
              "(1193, 4)"
            ]
          },
          "metadata": {},
          "execution_count": 11
        }
      ]
    },
    {
      "cell_type": "code",
      "source": [
        "df = df.loc[:, [\"messages\", \"embeddings\"]]"
      ],
      "metadata": {
        "id": "pziCfnNYv4bc"
      },
      "execution_count": null,
      "outputs": []
    },
    {
      "cell_type": "code",
      "source": [
        "df.head()"
      ],
      "metadata": {
        "colab": {
          "base_uri": "https://localhost:8080/",
          "height": 206
        },
        "id": "YNgf9EItvXvs",
        "outputId": "31c384fd-ecba-433b-9cb5-fe8b9c92d058"
      },
      "execution_count": null,
      "outputs": [
        {
          "output_type": "execute_result",
          "data": {
            "text/plain": [
              "                                            messages  \\\n",
              "0                           We all are hustling here   \n",
              "1  Yeah I told you I will for sure.. Networking i...   \n",
              "2  Anyways..... please let me know if you get to ...   \n",
              "3                                       Will do that   \n",
              "4                                          Yeah okay   \n",
              "\n",
              "                                          embeddings  \n",
              "0  [-0.02959604375064373, -0.001954703126102686, ...  \n",
              "1  [-0.0188064593821764, -0.005029025487601757, 0...  \n",
              "2  [-0.028831681236624718, -0.017356514930725098,...  \n",
              "3  [-0.021940890699625015, -0.0023069444578140974...  \n",
              "4  [-0.0006003823364153504, -0.013631971552968025...  "
            ],
            "text/html": [
              "\n",
              "  <div id=\"df-de550fdd-e20b-42a2-952f-6d7238a7811e\" class=\"colab-df-container\">\n",
              "    <div>\n",
              "<style scoped>\n",
              "    .dataframe tbody tr th:only-of-type {\n",
              "        vertical-align: middle;\n",
              "    }\n",
              "\n",
              "    .dataframe tbody tr th {\n",
              "        vertical-align: top;\n",
              "    }\n",
              "\n",
              "    .dataframe thead th {\n",
              "        text-align: right;\n",
              "    }\n",
              "</style>\n",
              "<table border=\"1\" class=\"dataframe\">\n",
              "  <thead>\n",
              "    <tr style=\"text-align: right;\">\n",
              "      <th></th>\n",
              "      <th>messages</th>\n",
              "      <th>embeddings</th>\n",
              "    </tr>\n",
              "  </thead>\n",
              "  <tbody>\n",
              "    <tr>\n",
              "      <th>0</th>\n",
              "      <td>We all are hustling here</td>\n",
              "      <td>[-0.02959604375064373, -0.001954703126102686, ...</td>\n",
              "    </tr>\n",
              "    <tr>\n",
              "      <th>1</th>\n",
              "      <td>Yeah I told you I will for sure.. Networking i...</td>\n",
              "      <td>[-0.0188064593821764, -0.005029025487601757, 0...</td>\n",
              "    </tr>\n",
              "    <tr>\n",
              "      <th>2</th>\n",
              "      <td>Anyways..... please let me know if you get to ...</td>\n",
              "      <td>[-0.028831681236624718, -0.017356514930725098,...</td>\n",
              "    </tr>\n",
              "    <tr>\n",
              "      <th>3</th>\n",
              "      <td>Will do that</td>\n",
              "      <td>[-0.021940890699625015, -0.0023069444578140974...</td>\n",
              "    </tr>\n",
              "    <tr>\n",
              "      <th>4</th>\n",
              "      <td>Yeah okay</td>\n",
              "      <td>[-0.0006003823364153504, -0.013631971552968025...</td>\n",
              "    </tr>\n",
              "  </tbody>\n",
              "</table>\n",
              "</div>\n",
              "    <div class=\"colab-df-buttons\">\n",
              "\n",
              "  <div class=\"colab-df-container\">\n",
              "    <button class=\"colab-df-convert\" onclick=\"convertToInteractive('df-de550fdd-e20b-42a2-952f-6d7238a7811e')\"\n",
              "            title=\"Convert this dataframe to an interactive table.\"\n",
              "            style=\"display:none;\">\n",
              "\n",
              "  <svg xmlns=\"http://www.w3.org/2000/svg\" height=\"24px\" viewBox=\"0 -960 960 960\">\n",
              "    <path d=\"M120-120v-720h720v720H120Zm60-500h600v-160H180v160Zm220 220h160v-160H400v160Zm0 220h160v-160H400v160ZM180-400h160v-160H180v160Zm440 0h160v-160H620v160ZM180-180h160v-160H180v160Zm440 0h160v-160H620v160Z\"/>\n",
              "  </svg>\n",
              "    </button>\n",
              "\n",
              "  <style>\n",
              "    .colab-df-container {\n",
              "      display:flex;\n",
              "      gap: 12px;\n",
              "    }\n",
              "\n",
              "    .colab-df-convert {\n",
              "      background-color: #E8F0FE;\n",
              "      border: none;\n",
              "      border-radius: 50%;\n",
              "      cursor: pointer;\n",
              "      display: none;\n",
              "      fill: #1967D2;\n",
              "      height: 32px;\n",
              "      padding: 0 0 0 0;\n",
              "      width: 32px;\n",
              "    }\n",
              "\n",
              "    .colab-df-convert:hover {\n",
              "      background-color: #E2EBFA;\n",
              "      box-shadow: 0px 1px 2px rgba(60, 64, 67, 0.3), 0px 1px 3px 1px rgba(60, 64, 67, 0.15);\n",
              "      fill: #174EA6;\n",
              "    }\n",
              "\n",
              "    .colab-df-buttons div {\n",
              "      margin-bottom: 4px;\n",
              "    }\n",
              "\n",
              "    [theme=dark] .colab-df-convert {\n",
              "      background-color: #3B4455;\n",
              "      fill: #D2E3FC;\n",
              "    }\n",
              "\n",
              "    [theme=dark] .colab-df-convert:hover {\n",
              "      background-color: #434B5C;\n",
              "      box-shadow: 0px 1px 3px 1px rgba(0, 0, 0, 0.15);\n",
              "      filter: drop-shadow(0px 1px 2px rgba(0, 0, 0, 0.3));\n",
              "      fill: #FFFFFF;\n",
              "    }\n",
              "  </style>\n",
              "\n",
              "    <script>\n",
              "      const buttonEl =\n",
              "        document.querySelector('#df-de550fdd-e20b-42a2-952f-6d7238a7811e button.colab-df-convert');\n",
              "      buttonEl.style.display =\n",
              "        google.colab.kernel.accessAllowed ? 'block' : 'none';\n",
              "\n",
              "      async function convertToInteractive(key) {\n",
              "        const element = document.querySelector('#df-de550fdd-e20b-42a2-952f-6d7238a7811e');\n",
              "        const dataTable =\n",
              "          await google.colab.kernel.invokeFunction('convertToInteractive',\n",
              "                                                    [key], {});\n",
              "        if (!dataTable) return;\n",
              "\n",
              "        const docLinkHtml = 'Like what you see? Visit the ' +\n",
              "          '<a target=\"_blank\" href=https://colab.research.google.com/notebooks/data_table.ipynb>data table notebook</a>'\n",
              "          + ' to learn more about interactive tables.';\n",
              "        element.innerHTML = '';\n",
              "        dataTable['output_type'] = 'display_data';\n",
              "        await google.colab.output.renderOutput(dataTable, element);\n",
              "        const docLink = document.createElement('div');\n",
              "        docLink.innerHTML = docLinkHtml;\n",
              "        element.appendChild(docLink);\n",
              "      }\n",
              "    </script>\n",
              "  </div>\n",
              "\n",
              "\n",
              "<div id=\"df-f7a7fad4-dc94-4d22-ae2c-2567ab930a27\">\n",
              "  <button class=\"colab-df-quickchart\" onclick=\"quickchart('df-f7a7fad4-dc94-4d22-ae2c-2567ab930a27')\"\n",
              "            title=\"Suggest charts.\"\n",
              "            style=\"display:none;\">\n",
              "\n",
              "<svg xmlns=\"http://www.w3.org/2000/svg\" height=\"24px\"viewBox=\"0 0 24 24\"\n",
              "     width=\"24px\">\n",
              "    <g>\n",
              "        <path d=\"M19 3H5c-1.1 0-2 .9-2 2v14c0 1.1.9 2 2 2h14c1.1 0 2-.9 2-2V5c0-1.1-.9-2-2-2zM9 17H7v-7h2v7zm4 0h-2V7h2v10zm4 0h-2v-4h2v4z\"/>\n",
              "    </g>\n",
              "</svg>\n",
              "  </button>\n",
              "\n",
              "<style>\n",
              "  .colab-df-quickchart {\n",
              "    background-color: #E8F0FE;\n",
              "    border: none;\n",
              "    border-radius: 50%;\n",
              "    cursor: pointer;\n",
              "    display: none;\n",
              "    fill: #1967D2;\n",
              "    height: 32px;\n",
              "    padding: 0 0 0 0;\n",
              "    width: 32px;\n",
              "  }\n",
              "\n",
              "  .colab-df-quickchart:hover {\n",
              "    background-color: #E2EBFA;\n",
              "    box-shadow: 0px 1px 2px rgba(60, 64, 67, 0.3), 0px 1px 3px 1px rgba(60, 64, 67, 0.15);\n",
              "    fill: #174EA6;\n",
              "  }\n",
              "\n",
              "  [theme=dark] .colab-df-quickchart {\n",
              "    background-color: #3B4455;\n",
              "    fill: #D2E3FC;\n",
              "  }\n",
              "\n",
              "  [theme=dark] .colab-df-quickchart:hover {\n",
              "    background-color: #434B5C;\n",
              "    box-shadow: 0px 1px 3px 1px rgba(0, 0, 0, 0.15);\n",
              "    filter: drop-shadow(0px 1px 2px rgba(0, 0, 0, 0.3));\n",
              "    fill: #FFFFFF;\n",
              "  }\n",
              "</style>\n",
              "\n",
              "  <script>\n",
              "    async function quickchart(key) {\n",
              "      const charts = await google.colab.kernel.invokeFunction(\n",
              "          'suggestCharts', [key], {});\n",
              "    }\n",
              "    (() => {\n",
              "      let quickchartButtonEl =\n",
              "        document.querySelector('#df-f7a7fad4-dc94-4d22-ae2c-2567ab930a27 button');\n",
              "      quickchartButtonEl.style.display =\n",
              "        google.colab.kernel.accessAllowed ? 'block' : 'none';\n",
              "    })();\n",
              "  </script>\n",
              "</div>\n",
              "    </div>\n",
              "  </div>\n"
            ]
          },
          "metadata": {},
          "execution_count": 14
        }
      ]
    },
    {
      "cell_type": "code",
      "source": [
        "!pip install pinecone-client"
      ],
      "metadata": {
        "id": "852z_4WVoRFq",
        "colab": {
          "base_uri": "https://localhost:8080/"
        },
        "outputId": "2fbdcd4e-3343-4e69-88e1-869920d8be54"
      },
      "execution_count": 9,
      "outputs": [
        {
          "output_type": "stream",
          "name": "stdout",
          "text": [
            "Collecting pinecone-client\n",
            "  Downloading pinecone_client-2.2.2-py3-none-any.whl (179 kB)\n",
            "\u001b[?25l     \u001b[90m━━━━━━━━━━━━━━━━━━━━━━━━━━━━━━━━━━━━━━━━\u001b[0m \u001b[32m0.0/179.1 kB\u001b[0m \u001b[31m?\u001b[0m eta \u001b[36m-:--:--\u001b[0m\r\u001b[2K     \u001b[91m━━━━━━━━━━━━━━━━━━━━━━━━━━━━━━━\u001b[0m\u001b[90m╺\u001b[0m\u001b[90m━━━━━━━\u001b[0m \u001b[32m143.4/179.1 kB\u001b[0m \u001b[31m4.1 MB/s\u001b[0m eta \u001b[36m0:00:01\u001b[0m\r\u001b[2K     \u001b[90m━━━━━━━━━━━━━━━━━━━━━━━━━━━━━━━━━━━━━━━\u001b[0m \u001b[32m179.1/179.1 kB\u001b[0m \u001b[31m3.8 MB/s\u001b[0m eta \u001b[36m0:00:00\u001b[0m\n",
            "\u001b[?25hRequirement already satisfied: requests>=2.19.0 in /usr/local/lib/python3.10/dist-packages (from pinecone-client) (2.31.0)\n",
            "Requirement already satisfied: pyyaml>=5.4 in /usr/local/lib/python3.10/dist-packages (from pinecone-client) (6.0.1)\n",
            "Collecting loguru>=0.5.0 (from pinecone-client)\n",
            "  Downloading loguru-0.7.0-py3-none-any.whl (59 kB)\n",
            "\u001b[2K     \u001b[90m━━━━━━━━━━━━━━━━━━━━━━━━━━━━━━━━━━━━━━━━\u001b[0m \u001b[32m60.0/60.0 kB\u001b[0m \u001b[31m6.7 MB/s\u001b[0m eta \u001b[36m0:00:00\u001b[0m\n",
            "\u001b[?25hRequirement already satisfied: typing-extensions>=3.7.4 in /usr/local/lib/python3.10/dist-packages (from pinecone-client) (4.7.1)\n",
            "Collecting dnspython>=2.0.0 (from pinecone-client)\n",
            "  Downloading dnspython-2.4.2-py3-none-any.whl (300 kB)\n",
            "\u001b[2K     \u001b[90m━━━━━━━━━━━━━━━━━━━━━━━━━━━━━━━━━━━━━━━\u001b[0m \u001b[32m300.4/300.4 kB\u001b[0m \u001b[31m9.5 MB/s\u001b[0m eta \u001b[36m0:00:00\u001b[0m\n",
            "\u001b[?25hRequirement already satisfied: python-dateutil>=2.5.3 in /usr/local/lib/python3.10/dist-packages (from pinecone-client) (2.8.2)\n",
            "Requirement already satisfied: urllib3>=1.21.1 in /usr/local/lib/python3.10/dist-packages (from pinecone-client) (2.0.4)\n",
            "Requirement already satisfied: tqdm>=4.64.1 in /usr/local/lib/python3.10/dist-packages (from pinecone-client) (4.66.1)\n",
            "Requirement already satisfied: numpy>=1.22.0 in /usr/local/lib/python3.10/dist-packages (from pinecone-client) (1.23.5)\n",
            "Requirement already satisfied: six>=1.5 in /usr/local/lib/python3.10/dist-packages (from python-dateutil>=2.5.3->pinecone-client) (1.16.0)\n",
            "Requirement already satisfied: charset-normalizer<4,>=2 in /usr/local/lib/python3.10/dist-packages (from requests>=2.19.0->pinecone-client) (3.2.0)\n",
            "Requirement already satisfied: idna<4,>=2.5 in /usr/local/lib/python3.10/dist-packages (from requests>=2.19.0->pinecone-client) (3.4)\n",
            "Requirement already satisfied: certifi>=2017.4.17 in /usr/local/lib/python3.10/dist-packages (from requests>=2.19.0->pinecone-client) (2023.7.22)\n",
            "Installing collected packages: loguru, dnspython, pinecone-client\n",
            "Successfully installed dnspython-2.4.2 loguru-0.7.0 pinecone-client-2.2.2\n"
          ]
        }
      ]
    },
    {
      "cell_type": "code",
      "source": [
        "api_key=getpass()"
      ],
      "metadata": {
        "colab": {
          "base_uri": "https://localhost:8080/"
        },
        "id": "Bzv1ZAno9NF3",
        "outputId": "a9a14e60-0185-4216-8eb8-40a17455d8cc"
      },
      "execution_count": 10,
      "outputs": [
        {
          "name": "stdout",
          "output_type": "stream",
          "text": [
            "··········\n"
          ]
        }
      ]
    },
    {
      "cell_type": "code",
      "source": [
        "import pinecone\n",
        "pinecone.init(api_key=api_key, environment='asia-southeast1-gcp-free')"
      ],
      "metadata": {
        "id": "2yxctt0boVEK"
      },
      "execution_count": 12,
      "outputs": []
    },
    {
      "cell_type": "code",
      "source": [
        "index = pinecone.Index(\"messages\")"
      ],
      "metadata": {
        "id": "4EFiofcMoX3P"
      },
      "execution_count": 13,
      "outputs": []
    },
    {
      "cell_type": "code",
      "source": [
        "vals = []\n",
        "for i in range(len(df)):\n",
        "    vals.append((df['messages'][i], df['embeddings'][i]))"
      ],
      "metadata": {
        "id": "bqwkeO7aoY3e"
      },
      "execution_count": null,
      "outputs": []
    },
    {
      "cell_type": "code",
      "source": [
        "print(vals[0])"
      ],
      "metadata": {
        "id": "b8r0Zrzhodfb",
        "colab": {
          "base_uri": "https://localhost:8080/"
        },
        "outputId": "0dacc235-5e13-487f-f4db-102e8fbc2da3"
      },
      "execution_count": null,
      "outputs": [
        {
          "output_type": "stream",
          "name": "stdout",
          "text": [
            "('We all are hustling here', [-0.02959604375064373, -0.001954703126102686, 0.003958601970225573, -0.021947775036096573, -0.013013863004744053, 0.0019514234736561775, -0.00019606476416811347, 0.01538836769759655, -0.009714481420814991, -0.052842579782009125, 0.003340377938002348, -0.0070579214952886105, 0.0005169632495380938, -0.0003904896730091423, 0.005562376696616411, -0.018222032114863396, 0.0255948044359684, -0.002508973004296422, 0.0041357059963047504, -0.025516092777252197, -0.017067575827240944, 0.0054213497787714005, 0.009294679388403893, 0.0010987005662173033, -0.004837562330067158, -0.0003431389632169157, 0.007182550150901079, -0.01385346706956625, 0.014181436970829964, -0.01453564502298832, 0.01422079373151064, -0.003801176091656089, 0.0027549508959054947, -0.0017431622836738825, -0.025109408423304558, -0.03151138871908188, -0.007221906911581755, 0.0048736389726400375, 0.007602352183312178, -0.00023798347683623433, 0.01583440788090229, 0.008179579861462116, -0.014010892249643803, 0.008258293382823467, -0.033715348690748215, -0.01258094236254692, -0.009976857341825962, -0.01624109037220478, -0.015401487238705158, 0.00591002544388175, 0.009793194010853767, 0.008887995965778828, -0.026591835543513298, -0.026919804513454437, 0.01135433278977871, 0.024020547047257423, 0.011629828251898289, 0.034423764795064926, -0.017775991931557655, -0.008140224032104015, -0.009202847257256508, -0.0004915455356240273, -0.012180818244814873, 0.011249382048845291, -0.0025630882009863853, -0.011380570940673351, -0.014260150492191315, -0.01113787293434143, 0.019651982933282852, -0.007130075246095657, 0.02063589356839657, 0.0027516710106283426, -0.034896042197942734, 0.010442575439810753, 0.00665779784321785, 0.0013315596152096987, -0.029464855790138245, -0.006208478473126888, 0.033426735550165176, 0.006559406872838736, 0.010409777984023094, -0.009189728647470474, -0.012764605693519115, 0.02904505282640457, 0.020281685516238213, 0.006513490807265043, -0.006208478473126888, 0.02870396338403225, -0.006808664184063673, -0.024440350010991096, 0.005090099759399891, 0.00397828035056591, 0.005463985726237297, 0.017080694437026978, 0.001244647428393364, 0.006313428748399019, -0.006697154138237238, 0.015506437048316002, 0.019743815064430237, -0.035604458302259445, -0.004876919090747833, 0.009445545263588428, -0.019337130710482597, 0.00024003328871913254, -0.002617203164845705, -0.009124134667217731, 0.003289542393758893, -0.002469616709277034, 0.0017726796213537455, -0.009530818089842796, 0.010613120160996914, -0.0034732059575617313, 0.006379023194313049, -0.03835941106081009, 0.020950745791196823, -0.011610149405896664, 0.0061428844928741455, 0.00878304522484541, -0.01333527360111475, -0.0236794576048851, 0.003150155069306493, 0.012869555503129959, 0.019914358854293823, 0.01270557101815939, -0.0022564358077943325, -0.014955447055399418, -0.012371040880680084, -0.023036636412143707, 0.00952425878494978, -0.013354952447116375, 0.011623268947005272, -0.0011036201613023877, -0.010698392055928707, -0.002407302148640156, -0.007963120006024837, -0.004630940966308117, 0.017631685361266136, 0.021619804203510284, -0.0206096563488245, -0.008507550694048405, 0.01590000092983246, 0.013184407725930214, -0.0027188740205019712, -0.008422277867794037, -0.008153342641890049, 0.0003419090644456446, 0.00430953036993742, -0.007976238615810871, -0.0030599632300436497, -0.017487378790974617, 0.020439110696315765, -0.008238614536821842, 0.019468318670988083, -0.011255942285060883, 0.017579209059476852, 0.02193465642631054, 0.005500062368810177, 0.022131437435746193, -0.021777229383587837, -0.011544555425643921, -0.00961608998477459, 0.005677166394889355, 0.025581685826182365, -0.012416956946253777, 0.04423663765192032, 0.017894061282277107, 0.021960893645882607, 0.015099754557013512, 0.0028385831974446774, 0.012082426808774471, 0.020544061437249184, 0.0008355044410564005, -0.010973887518048286, 0.01300074439495802, -0.005644369404762983, 4.163686026004143e-05, -0.0009461943991482258, 0.017106933519244194, -0.03563069552183151, -0.0257522314786911, -0.01904851756989956, -0.0009101176983676851, 0.02715594321489334, 0.021475497633218765, 0.011328095570206642, 0.018694309517741203, 0.0017136449459940195, -0.008684654720127583, 0.012233293615281582, -0.019468318670988083, 0.0029189360793679953, 0.018287625163793564, -0.012594060972332954, 0.004394802264869213, -0.6838575005531311, -0.010088367387652397, 0.020032428205013275, -0.010645916685461998, -0.012830199673771858, -0.025148766115307808, 0.015309655107557774, 0.016713367775082588, 0.0029386142268776894, 0.02234133891761303, 0.0032075499184429646, 0.023692576214671135, 0.009327475912868977, 0.0021793628111481667, -0.010901734232902527, -0.0206096563488245, 0.029805943369865417, -0.014522526413202286, -0.02622450888156891, -0.011190347373485565, 0.0030566835775971413, 0.0081730205565691, -0.004375124350190163, 0.007884406484663486, -0.0007797494763508439, 0.0006092048715800047, 0.02815297432243824, -0.0023285893257707357, -0.004342327360063791, 0.011905322782695293, -0.009589852765202522, 0.00620519882068038, -0.018248269334435463, -0.02870396338403225, 0.054469313472509384, -0.018117081373929977, -0.0036207924131304026, 0.028179211542010307, 0.013643565587699413, 0.012613738887012005, -0.021003220230340958, -0.005395112093538046, 0.013145050965249538, 0.0007748299394734204, 0.01300074439495802, 0.003663428593426943, 0.02175099216401577, -0.028231685981154442, -0.0143913384526968, -0.0022498765029013157, 0.0025548888370394707, 0.009924381971359253, 0.0087305698543787, 0.014037130400538445, -0.010193318128585815, -0.0053918324410915375, 0.004398082382977009, 0.007694183848798275, -0.0053623151034116745, -0.009242204017937183, 0.003984839655458927, 0.01461435854434967, -0.022065844386816025, 0.0069988868199288845, -0.02522747777402401, -0.005172092001885176, -0.02459777519106865, 0.02270866557955742, -0.0004464496159926057, 0.00782537180930376, -0.0067069935612380505, 0.02030792273581028, -0.011223144829273224, 0.039146538823843, 0.03169505298137665, 0.00578867644071579, -0.00023326890368480235, -0.006014975719153881, -0.009340595453977585, 0.008002475835382938, -0.006264233496040106, 0.013656685128808022, -0.015060397796332836, 0.0027254335582256317, 0.013341832906007767, -0.02142302319407463, -0.011951238848268986, 0.011046040803194046, 0.00591002544388175, 0.012535026296973228, 0.005680446047335863, 0.027050992473959923, 0.015165348537266254, -0.0034764856100082397, 0.0072284662164747715, -0.003486324567347765, 0.0008219756418839097, 0.026841092854738235, 0.021029457449913025, 0.006549567449837923, -0.012023392133414745, -0.013984655030071735, 0.009353714063763618, 0.00443087937310338, 0.016765844076871872, 0.021685399115085602, -0.023915596306324005, 0.03796584531664848, 0.00865841656923294, -0.029753468930721283, 0.004985149018466473, -0.018930448219180107, -0.03510594367980957, 0.011334654875099659, -0.00703824358060956, -0.030094558373093605, 0.004368565045297146, 0.011774134822189808, 0.013400867581367493, -0.010186758823692799, 0.005034344736486673, 0.005129456054419279, 0.020425992086529732, -0.010659036226570606, 0.012607179582118988, -0.010632798075675964, -0.0019120670622214675, -0.008822401985526085, -0.03510594367980957, 0.009137253277003765, 0.030540596693754196, -0.025660399347543716, 0.027392081916332245, -0.01790717989206314, 0.030173270031809807, -0.012272650375962257, 0.004266893956810236, 0.008015595376491547, 0.042006440460681915, -0.031091587617993355, -0.027050992473959923, 0.00430953036993742, -0.021921537816524506, 0.0024351796600967646, 0.0027598703745752573, -0.024466587230563164, -0.006959530524909496, -0.020517824217677116, -0.013276238925755024, -0.01975693367421627, 0.005306560080498457, -0.005762438755482435, -0.0348435677587986, 0.004362005274742842, 0.018025249242782593, -0.0012790843611583114, -0.006369183771312237, -0.009137253277003765, -0.025949012488126755, -0.01524406112730503, 0.0013569772709161043, 0.024217329919338226, -0.012607179582118988, 0.004191461019217968, 0.0014553683577105403, -0.006667636800557375, -0.025476735085248947, 0.012036511674523354, -0.008947030641138554, -0.018917329609394073, 0.02053094282746315, -0.011177228763699532, 0.0066774762235581875, 0.019704457372426987, 0.027208419516682625, 0.011321536265313625, -0.012810520827770233, 0.0036831069737672806, -0.02634257823228836, 0.003258385229855776, 0.00453910930082202, 0.002085891319438815, -0.01719876378774643, 0.006687315180897713, 0.019468318670988083, 0.0008428837754763663, 0.003942203242331743, -0.0002459777460899204, 0.0016956066247075796, 0.015768812969326973, 0.011492080986499786, -0.020229211077094078, 0.0018628714606165886, -0.0008186959312297404, 0.012423516251146793, -0.015729457139968872, -0.006874258164316416, 0.019743815064430237, -0.0033223393838852644, 0.00856658536940813, 0.010324506089091301, 0.01723812147974968, -0.011019803583621979, -0.019481437280774117, 0.011334654875099659, -0.026946043595671654, 0.0067233918234705925, -0.04069456085562706, 0.01235792227089405, -0.0017038058722391725, 0.012685892172157764, -0.015322773717343807, 0.009215966798365116, -0.006441337522119284, 0.01475866511464119, 0.028730200603604317, -0.02534554712474346, 0.033452972769737244, -0.015204704366624355, -0.005641089752316475, 0.006556127220392227, -0.004775248002260923, -0.013197526335716248, -0.008579703979194164, 0.00521472841501236, 0.01835322007536888, 0.009183169342577457, 0.03282327204942703, 0.002381064696237445, 0.0013102415250614285, -0.028126735240221024, 0.004404641687870026, 0.012836758978664875, 0.009353714063763618, -0.012397279031574726, -0.003919245675206184, 0.014089605771005154, -0.0030074878595769405, 0.03085544891655445, 0.001078202505595982, 0.010167079977691174, -0.00922908540815115, 0.024610893800854683, 0.0005985458847135305, 0.022315101698040962, 0.00981943216174841, 0.03421386703848839, -0.011623268947005272, -0.008035273291170597, 0.03326931223273277, 0.0036109534557908773, 0.005500062368810177, -0.002636881545186043, 0.0019530632998794317, 0.01660841703414917, -0.039487630128860474, 0.002846782561391592, 0.003063242882490158, 0.008264852687716484, 0.03248218074440956, -0.013997773639857769, 0.014260150492191315, 0.014601239003241062, -0.010836140252649784, 0.01302042230963707, -0.007772896904498339, -0.003587995423004031, -0.0002662709157448262, -0.0035814361181110144, 0.004755570087581873, -0.0008453435148112476, -0.0007129255100153387, 0.0024663368239998817, -0.025030696764588356, 0.025909656658768654, 0.015781933441758156, -0.015781933441758156, -0.016188615933060646, -0.0020809718407690525, 0.003745421301573515, 0.007307179272174835, -0.04738515242934227, 0.004837562330067158, 0.0003177212493028492, -0.023062873631715775, -0.02116064541041851, 0.020544061437249184, 0.014876734465360641, -0.01646411046385765, -0.0032387070823460817, -0.0028418628498911858, 0.011255942285060883, 0.0014799661003053188, -0.006841461174190044, 0.008291089907288551, 0.0023056315258145332, 0.017172526568174362, -0.014063367620110512, 0.029097527265548706, -0.012620298191905022, -0.007726981304585934, -0.004696535412222147, -0.0046571786515414715, -0.019192824140191078, 0.021777229383587837, 0.02142302319407463, -0.0030960398726165295, -0.01444381382316351, 0.0025663678534328938, -0.0010896814055740833, 0.012882675044238567, -0.0002316290483577177, -0.012331685051321983, 0.01945520006120205, 0.01174789760261774, -0.009058540686964989, -0.010298268869519234, 0.0006711093010380864, 0.029386142268776894, -0.01492920983582735, -0.004853961057960987, -0.011918442323803902, -0.021409902721643448, 0.006074010394513607, 0.1270950585603714, 0.03022574633359909, -0.019743815064430237, -0.0004357905709184706, 0.007313738577067852, 0.008186139166355133, -0.016109902411699295, -0.024256685748696327, 0.006005136761814356, -0.02104257605969906, -0.0005370514118112624, -0.03250841796398163, -0.004896597005426884, 0.0036732677835971117, 0.008769926615059376, -0.002097370335832238, 0.0007153853075578809, 0.003174752928316593, 0.009970298036932945, 0.022472526878118515, 0.019219061359763145, 0.010422897525131702, -0.0038274137768894434, 0.007963120006024837, -0.0069529712200164795, 0.02681485377252102, 0.01886485330760479, 0.009484902024269104, 0.013919061049818993, -0.019100992009043694, 0.020701488479971886, 0.03636535257101059, -0.011492080986499786, -0.0014299507020041347, 0.0002785698161460459, -0.0018628714606165886, -0.0007961479714140296, 0.015165348537266254, 0.036496538668870926, 0.005952661391347647, 0.018405694514513016, 0.016372278332710266, 0.005021225661039352, -0.014312625862658024, 0.007995916530489922, -0.0041061886586248875, -0.00861906073987484, 0.017802229151129723, 0.011472402140498161, -0.00981943216174841, 0.017749754711985588, 0.0007965579279698431, -0.008514109998941422, -0.009609530679881573, 0.013997773639857769, 0.019888121634721756, -0.020557180047035217, 0.0038569311145693064, -0.020649012178182602, -0.04872327297925949, -0.01209554634988308, 0.013997773639857769, 0.014902971684932709, -0.004929393995553255, -0.0020891709718853235, -0.009032303467392921, -0.018668072298169136, 0.0008211557287722826, -0.007818812504410744, -0.004407921340316534, 0.00039089962956495583, -0.002628682181239128, -0.009051981382071972, -0.00895358994603157, -0.005122896749526262, 0.01815643720328808, 0.005785396788269281, -0.011754456907510757, 0.0042472160421311855, 0.004240656271576881, -0.012390718795359135, -0.028231685981154442, 0.005034344736486673, -0.021659160032868385, -0.021803468465805054, -0.009963738732039928, -0.01864183321595192, 0.007910644635558128, 0.007005446124821901, 0.011465842835605145, 0.009930942207574844, 0.008579703979194164, 0.027208419516682625, -0.005634530447423458, 0.0020514545030891895, -0.019783170893788338, 0.021960893645882607, -0.005739480722695589, -0.0037978964392095804, 0.023587627336382866, 0.013250001706182957, -0.03166881576180458, 0.00578867644071579, 0.002441739197820425, 0.004834282677620649, -0.01809084415435791, -0.0033387381117790937, 0.004719492979347706, -0.007477723527699709, -0.012443194165825844, 0.015808170661330223, -0.014601239003241062, 0.027208419516682625, -0.007536758203059435, -0.009117575362324715, 0.016214853152632713, 0.005778837483376265, 0.018838616088032722, -0.009360273368656635, 0.018366338685154915, -1.654264451644849e-06, -0.021501734852790833, 0.027208419516682625, 0.013984655030071735, -0.002074412303045392, -0.0027254335582256317, 0.011708540841937065, -0.05237030237913132, -0.0012503869365900755, 0.01515222992748022, -0.00865841656923294, 0.029281191527843475, 0.00812054518610239, -0.031353965401649475, -0.017120052129030228, -0.012364481575787067, -0.003328898921608925, 0.0010052290745079517, -0.02085891366004944, -0.0287826769053936, -0.020806437358260155, 0.012403838336467743, -0.0010019494220614433, -0.012817081063985825, -0.013446783646941185, -0.031353965401649475, 0.010659036226570606, 0.001848112791776657, -0.0008584623574279249, 0.013709159567952156, -0.001846472965553403, 0.008560026064515114, -0.005031065084040165, -0.014666832983493805, -0.012351362966001034, -0.004214418586343527, -0.0174611397087574, -0.024020547047257423, 0.003466646419838071, 0.041009411215782166, 0.019402725622057915, -0.0118200508877635, 0.0012758045922964811, 0.012659654952585697, 0.026198269799351692, -0.002389263827353716, 0.013814110308885574, -0.023797526955604553, -0.022551240399479866, 0.010665595531463623, 0.01750049740076065, 0.02356138825416565, 0.005687005817890167, 0.02508317120373249, -0.0027319928631186485, 0.0013168009463697672, 0.0029878097120672464, 0.0048736389726400375, -0.021777229383587837, -0.00839604064822197, -0.010685273446142673, -0.01912722922861576, -0.013669803738594055, 0.0028861388564109802, -0.007995916530489922, -0.015598269179463387, 0.031275250017642975, -0.008310768753290176, 0.0034338494297116995, -0.00020313663117121905, 0.009189728647470474, -0.02067524939775467, 0.011072278954088688, 0.02744455821812153, -0.0046407803893089294, -0.021186884492635727, -0.0022957923356443644, -0.02626386471092701, 0.0013815750135108829, 0.010219555348157883, -0.0009847308974713087, -0.004794926382601261, -0.01691015064716339, 0.017985893413424492, 0.0067233918234705925, 0.011478961445391178, -0.0038766092620790005, -0.0127974022179842, -0.007412129547446966, 0.0027844682335853577, -0.01583440788090229, -0.03620792552828789, -0.03426634147763252, -0.0451287180185318, 0.009576734155416489, 7.502321386709809e-05, -0.021134408190846443, 0.004512871615588665, 0.006300310138612986, -0.006841461174190044, -0.001997339306399226, 0.012548144906759262, 0.02630322054028511, 0.0013594370102509856, 0.03599802404642105, 0.015860645100474358, -0.005762438755482435, -0.007838491350412369, -0.0020694928243756294, 0.015060397796332836, -0.0029304148629307747, 0.027050992473959923, 0.0019825806375592947, -0.023220298811793327, 0.0026532800402492285, -0.005070421379059553, 0.03439752757549286, -0.022065844386816025, -0.010908293537795544, 0.025135645642876625, 0.014889853075146675, -0.0009158571483567357, -0.011701981537044048, -0.02689356729388237, -0.0014766864478588104, 0.0017907180590555072, -0.00044931937009096146, 0.017329951748251915, -0.004594864323735237, -0.034240104258060455, -0.007549877278506756, 0.029386142268776894, -0.010875496082007885, 0.024335399270057678, 0.02608020044863224, -0.010750867426395416, 0.0053787133656442165, -0.00209409068338573, -0.011223144829273224, -0.015676982700824738, -0.009183169342577457, 0.0009863708401098847, -0.019888121634721756, 0.003548639127984643, -0.014194556511938572, 0.0051032183691859245, -0.041455451399087906, -0.012351362966001034, 0.0009962099138647318, 0.025909656658768654, -0.005273763090372086, -0.028310399502515793, 0.005273763090372086, 0.005483664106577635, 0.010108045302331448, -0.000425131554948166, -0.0112625015899539, -0.01422079373151064, -0.005929703824222088, 0.0008371442672796547, 0.0008018874796107411, -0.001828434644266963, 0.022092081606388092, -0.005582055076956749, -0.010121164843440056, -0.025621041655540466, -0.006346226204186678, 0.0046276613138616085, 0.008061510510742664, -0.018733665347099304, -0.01912722922861576, -0.02049158699810505, 0.016083665192127228, -0.011531436815857887, -0.014798021875321865, 0.0023564668372273445, 0.002615563338622451, 0.022092081606388092, -0.025568567216396332, 0.024991339072585106, -0.020780200138688087, -0.0051163374446332455, -0.01394529826939106, 0.01879926025867462, -0.002774629043415189, -0.027916835620999336, 0.026093319058418274, -0.0102261146530509, -0.01565074361860752, 0.0006153543363325298, 0.01235792227089405, -0.01206274889409542, -0.02670990489423275, 0.01385346706956625, 0.0010322866728529334, 0.011439605616033077, 0.010534407570958138, -0.0012175898300483823, -0.014548763632774353, 0.030829211696982384, -0.008625620044767857, -0.0024663368239998817, 0.010068689472973347, -0.01967822015285492, 0.008809283375740051, -0.014233912341296673, 0.02859901264309883, -0.00658564455807209, -0.019442081451416016, -0.002292512683197856, -0.010265471413731575, 0.014876734465360641, -0.012193936854600906, -0.032901983708143234, 0.0016054147854447365, -0.023075992241501808, -0.006034654099494219, 0.019061636179685593, -0.00981943216174841, 0.01715940795838833, 0.010481932200491428, 0.008271411992609501, 0.001748081878758967, 0.012908912263810635, -0.02467648871243, -0.0026614791713654995, 0.0019940596539527178, 0.0019383046310395002, -0.006136325187981129, -0.03626039996743202, -0.003994678612798452, 0.004794926382601261, 0.023220298811793327, -0.01772351749241352, -0.0214886162430048, 0.0010003094794228673, -0.03374158963561058, -0.01782846823334694, 0.003509282600134611, 0.016634656116366386, 0.013007303699851036, 0.009845669381320477, 0.017841586843132973, 0.011393689550459385, 0.020740844309329987, 0.031904954463243484, -0.02844158746302128, -0.001265965518541634, 0.001056884415447712, -0.03022574633359909, 0.01030482817441225, 0.005339357070624828, -0.009294679388403893, 0.0033321785740554333, 0.02563416212797165, 0.021357428282499313, -0.021278714761137962, 0.019258417189121246, 0.001097060739994049, 0.00215476518496871, -0.011085397563874722, -0.0030648827087134123, 0.00014205215848051012, 0.014666832983493805, 0.0028910585679113865, -0.041822776198387146, -0.018838616088032722, 0.013682922348380089, 0.009707922115921974, 0.0011232984252274036, -0.0018792700720950961, 0.009799753315746784, 0.0041816215962171555, 0.002449938328936696, 0.00266803870908916, -0.018786141648888588, 0.012928590178489685, -0.016949506476521492, 0.010613120160996914, -0.010042451322078705, -0.0195732694119215, 0.004496473353356123, 0.023850003257393837, -0.005690285470336676, 0.024873269721865654, -0.003696225583553314, -0.016332922503352165, 0.001708725467324257, -0.008041832596063614, -0.03332178667187691, -0.015532675199210644, -0.00027651997515931726, 0.007707302924245596, -0.0038405326195061207, -0.013761634938418865, -0.013309036381542683, -0.011629828251898289, -0.0027729892171919346, 0.011026362888514996, -0.003997958265244961, -0.016700249165296555, 0.005313119385391474, 0.0018661512294784188, 0.0019989791326224804, 0.0037388617638498545, -0.011255942285060883, -0.007248144596815109, -0.005322958342730999, -0.02057029865682125, -0.008874877355992794, -0.006454456131905317, -0.011078838258981705, -0.031616341322660446, 0.0002970181230921298, 0.00351912179030478, 0.02297104150056839, 0.23508913815021515, -0.02063589356839657, -0.013066338375210762, -0.006454456131905317, 0.01872054673731327, 0.0022580758668482304, 0.01912722922861576, 0.009183169342577457, -0.0012110304087400436, 0.009261881932616234, 0.004689975641667843, -0.006539728492498398, -0.010724630206823349, 0.005008107051253319, 0.02189529873430729, -0.0035060029476881027, -0.024545300751924515, -0.01642475463449955, -0.003417450934648514, -0.009386510588228703, 0.02193465642631054, -0.002854981692507863, 0.0014594680396839976, -0.018707428127527237, 0.02038663625717163, 0.0038995672948658466, 0.0022597156930714846, -0.00446695601567626, 0.028677726164460182, 0.0064347777515649796, -0.018510645255446434, -0.012764605693519115, 0.011177228763699532, 0.019665101543068886, 0.010770545341074467, 0.003948763012886047, 0.019520794972777367, -0.025791587308049202, 0.018143318593502045, 0.00926844123750925, 0.007976238615810871, 0.022288864478468895, -0.004647339694201946, -0.01010148599743843, -0.004929393995553255, 0.028625251725316048, -0.012167699635028839, 0.003220668761059642, 0.002736912341788411, 0.030645547434687614, -0.037939608097076416, -0.012954828329384327, 0.014732427895069122, 0.03180000185966492, -0.005375433713197708, 0.007497401908040047, 0.002794307190924883, 0.01579505205154419, -0.013059779070317745, 0.021226240321993828, 0.02726089395582676, 0.021370546892285347, -0.012718689627945423, 0.007097278255969286, -0.024755200371146202, 0.001936664804816246, -0.019205942749977112, 0.002048174850642681, 0.013682922348380089, 0.001284823752939701, 0.014575001783668995, -0.007523639593273401, -0.01013428345322609, -0.008717451244592667, -0.011761016212403774, 0.005568936467170715, 0.027024755254387856, 0.013131932355463505, 0.02611955814063549, 0.017067575827240944, -0.013709159567952156, -0.009799753315746784, -0.010960768908262253, -0.02356138825416565, -2.662196675373707e-05, -0.037047527730464935, 0.01715940795838833, 0.024584656581282616, -0.012069308198988438, -0.0025122526567429304, 0.016660893335938454, -0.022433171048760414, -0.0017923578852787614, -0.028913864865899086, 0.00436528492718935, 0.03174752742052078, 0.02815297432243824, 0.001215950003825128, -0.01211522426456213, 0.004148824606090784, -0.01691015064716339, -0.032062381505966187, 0.006920174229890108, 0.007261263206601143, -0.002335148863494396, -0.023954953998327255, 0.02071460708975792, -0.005401671398431063, 0.0030304458923637867, -0.019153468310832977, -0.0016423114575445652, -0.021724754944443703, 0.005506622139364481, -0.0008969988557510078, 0.013007303699851036, 0.011242822743952274, 0.006913614459335804, 0.0019235459621995687, 0.018300743773579597, -0.01407648716121912, 0.011452724225819111, -0.004525990691035986, -0.007890966720879078, 0.003925804980099201, 0.004299690946936607, -0.013473021797835827, -0.006503651849925518, -0.009589852765202522, 0.005034344736486673, -0.019245298579335213, 0.027313370257616043, -0.012003714218735695, 0.013617328368127346, -0.008159901946783066, 0.0041816215962171555, -0.010862377472221851, -0.0019005880458280444, -0.014509407803416252, -0.025765350088477135, 0.01664777472615242, -0.013709159567952156, -0.005424629431217909, 0.006234716158360243, -0.0061888000927865505, -0.0015062037855386734, -0.03180000185966492, 0.03180000185966492, -0.01990124024450779, -0.0060838498175144196, -0.026421289891004562, 3.8895232137292624e-05, -0.007300619501620531, -0.024978220462799072, -0.021095052361488342, 0.03809703513979912, -0.031091587617993355, -0.03187871724367142, -0.0046276613138616085, 0.0077204215340316296, 0.00846819393336773, -0.013840348459780216, -0.010186758823692799, 0.03828069567680359, -0.009170050732791424, -0.034056439995765686, 0.015099754557013512, -0.16865547001361847, 0.012981065548956394, 0.024059902876615524, -0.01713317073881626, 0.0050277854315936565, -0.004358725622296333, 0.011380570940673351, 0.017080694437026978, -0.02205272577702999, 0.020727725699543953, 0.021816587075591087, 0.005381993018090725, -0.04575842246413231, 0.001236448180861771, 0.0034535275772213936, -0.0025450498796999454, -0.036129213869571686, -0.008835520595312119, 0.015493318438529968, -0.011551115661859512, 0.0266311913728714, 0.01000965479761362, 0.0014488089364022017, -0.012351362966001034, 0.008874877355992794, -0.011918442323803902, -0.005746040493249893, 0.03851683437824249, -0.001915346714667976, -0.026067081838846207, -0.027103468775749207, 0.0005985458847135305, -0.00024556778953410685, 0.026946043595671654, 0.013512377627193928, 0.0010126084089279175, -0.0112625015899539, 0.006729951128363609, -0.008297649212181568, 0.007871287874877453, 0.012082426808774471, 0.031721290200948715, -0.004607983399182558, 0.0056673274375498295, 0.0025647280272096395, 0.005283602047711611, 0.026237627491354942, 0.018143318593502045, -0.01860247738659382, -0.008809283375740051, 0.0052212877199053764, -0.01605742797255516, -0.0009847308974713087, -0.006257674191147089, 0.0049982680939137936, 0.02904505282640457, -0.018930448219180107, 0.015047279186546803, 0.007189109921455383, -0.018707428127527237, -0.001147076254710555, -0.006287191528826952, 0.03340049833059311, -0.017434902489185333, -0.008186139166355133, -0.02394183538854122, 0.01089517492800951, 0.014916091226041317, -0.023731933906674385, 0.03337426111102104, -0.004375124350190163, -0.009347154758870602, 0.012823640368878841, -0.017001982778310776, 0.0013471381971612573, 0.005031065084040165, -0.016923269256949425, 0.016372278332710266, -0.008199258707463741, 0.015007922425866127, 0.006349505856633186, 0.021186884492635727, -0.025739111006259918, 0.002640161197632551, 0.019507676362991333, -0.009137253277003765, 0.007667946629226208, 0.0015291617019101977, 0.0005071241175755858, -0.025988370180130005, 0.015427724458277225, -0.022603714838624, -0.01565074361860752, -0.0014168318593874574, -0.00697264913469553, 0.008041832596063614, 0.006156003102660179, 0.016188615933060646, 0.020990101620554924, -0.005490223411470652, -0.0112625015899539, 0.0028107056859880686, -0.039566341787576675, 0.03570941090583801, 0.023666338995099068, 0.012535026296973228, 0.007136634550988674, 0.016044309362769127, 0.028572775423526764, -0.015178467147052288, -0.012397279031574726, 0.036785151809453964, 0.010317946784198284, 0.028677726164460182, 0.026827974244952202, 0.03395148739218712, 0.010540966875851154, -0.0017431622836738825, 0.029753468930721283, -0.006959530524909496, 0.03927772864699364, 0.013735397718846798, -0.03783465921878815, -0.0029484534170478582, 0.014142081141471863, -0.012226734310388565, -0.1151307076215744, -0.032009903341531754, 0.018326982855796814, 0.016844555735588074, -0.00604777317494154, 0.04350198432803154, 0.0011109994957223535, 0.020950745791196823, -0.014273269101977348, 0.02104257605969906, 0.0024384595453739166, -0.018038367852568626, -0.025844061747193336, 0.017592329531908035, 0.034502480179071426, -0.023089110851287842, -0.00878304522484541, -0.02904505282640457, -0.03067178651690483, 0.020321041345596313, -0.01935024932026863, 0.0006366724264807999, -0.006379023194313049, -0.009570173919200897, 0.006162562407553196, 0.0008863398106768727, -0.027549508959054947, 0.02500445768237114, 0.025017576292157173, -0.01813019998371601, -0.015480199828743935, -0.020990101620554924, 0.010383540764451027, -0.014863615855574608, 0.02437475509941578, 0.013105694204568863, -0.05234406515955925, -0.04331832006573677, 0.01668713055551052, -0.03350545093417168, -0.0027237937320023775, 0.0026122836861759424, -0.0011232984252274036, -0.02400742843747139, 0.014732427895069122, 0.01753985323011875, 0.00981943216174841, 0.0036011142656207085, 0.016031190752983093, -0.003032085718587041, -0.019586388021707535, -0.019074754789471626, -0.02593589387834072, -0.035420797765254974, 0.014024011790752411, 0.011911883018910885, -0.0045817457139492035, 0.016962625086307526, -0.0034928841050714254, -0.0012782643316313624, 0.005572216119617224, -0.011334654875099659, -0.0195732694119215, 0.011288738809525967, 0.016450991854071617, -0.031117824837565422, -0.022734902799129486, -0.00757611496374011, 0.009484902024269104, -0.012436634860932827, -0.01569010131061077, 0.022721784189343452, -0.028808914124965668, 0.019297774881124496, -0.01353861577808857, 0.012266090139746666, -0.02415173500776291, -0.004398082382977009, 0.008461634628474712, -0.01565074361860752, -0.017657922580838203, -0.028126735240221024, -0.014666832983493805, -0.031065350398421288, 0.012272650375962257, 0.010724630206823349, -0.016660893335938454, 0.0004239016561768949, 0.0022793938405811787, -0.02449282445013523, 0.0010929611744359136, 0.00026791077107191086, 0.01551955658942461, -0.022210150957107544, -0.004906436428427696, 0.01380099169909954, -0.015362130478024483, -0.008369802497327328, 0.00926844123750925, 0.0041521042585372925, -0.022721784189343452, -0.016359159722924232, -0.043554458767175674, -9.40864920266904e-05, -0.007969679310917854, 0.011636387556791306, -0.001959622837603092, -0.014876734465360641, 0.000919136859010905, -0.005536139477044344, 0.015703219920396805, -0.004988428670912981, -0.01819579489529133, -0.002955012721940875, 0.015204704366624355, -0.008966708555817604, -0.0049031563103199005, 0.004001237917691469, 0.007884406484663486, -0.02374505251646042, 0.01394529826939106, -0.0034043320920318365, 0.0008519029361195862, 0.009904704056680202, 0.019219061359763145, 0.0024745361879467964, 0.015270298346877098, 0.0023581066634505987, -0.01000965479761362, 0.007471164222806692, -0.00915693212300539, -0.010613120160996914, -0.008986387401819229, -0.036050498485565186, 0.006602042820304632, -0.0018235150491818786, 0.022000249475240707, -0.01753985323011875, 0.009465224109590054, 0.009065099991858006, 0.02933366596698761, 0.022000249475240707, -0.047411393374204636, -0.023443318903446198, -0.018851734697818756, -0.012862996198236942, -0.005903466138988733, -0.01579505205154419, -0.005155693739652634, -0.0016373918624594808, 0.009655446745455265, 0.00886175874620676, 0.022367576137185097, 0.03332178667187691, -0.014050249010324478, -0.01475866511464119, -0.015204704366624355, -0.0026729581877589226, 0.008238614536821842, -0.0011003405088558793, -0.00018151108815800399, -0.03689010441303253, 0.017972774803638458, 0.002507333178073168, -0.004949072375893593, -0.0008166461484506726, 0.028100498020648956, 0.03557822108268738, 0.00947178341448307, -0.009111016057431698, 0.005552537739276886, -0.01927153766155243, 0.0071956692263484, -0.009891585446894169, 0.004270173609256744, 0.008369802497327328, 0.0005198330036364496, 0.0007141553796827793, -0.0006952970870770514, 0.007320297881960869, -0.02733960747718811, 0.02356138825416565, -0.003479765262454748, -0.015742575749754906, -0.007543317507952452, 0.01786782406270504, 0.01565074361860752, 0.017448021098971367, -0.010193318128585815, 0.013774754479527473, 0.004158664029091597, 0.01159703079611063, -0.03581435978412628, 0.0020104581490159035, 0.003515841905027628, 0.0056968447752296925, 0.023469557985663414, 0.005673886742442846, -0.01385346706956625, -0.0006083849584683776, 0.001946503994986415, 0.03266584500670433, 0.0025844061747193336, -0.004808044992387295, -0.008022154681384563, 0.0009215966565534472, -0.009714481420814991, 0.01098700612783432, -0.00886175874620676, -0.008632179349660873, -0.003745421301573515, 0.030698023736476898, 0.028913864865899086, 0.0033436575904488564, 0.004926114343106747, 0.01209554634988308, -0.01813019998371601, 0.010823020711541176, -0.0025729273911565542, -0.0065889242105185986, -0.006096968427300453, 0.029569804668426514, 0.0011511758202686906, -0.010796783491969109, -0.013026981614530087, 0.0009634128655306995, 0.013059779070317745, -0.01569010131061077, -0.010212996043264866, -0.01882549747824669, -0.00991126336157322, 0.0019383046310395002, 0.0024515781551599503, 0.0003761409898288548, -0.008422277867794037, -0.014037130400538445, -0.012620298191905022, -0.011570793576538563, -0.02123935893177986, 0.030619310215115547, -0.02715594321489334, 0.03287574648857117, 0.00491955503821373, -0.004319369327276945, 0.01583440788090229, 0.005768998060375452, 0.015060397796332836, 0.018182676285505295, 0.014824259094893932, -0.034896042197942734, -0.006051052827388048, 0.006319988518953323, -0.0003398592525627464, 0.02478143759071827, -0.051740601658821106, -0.0021711636800318956, 0.004178341943770647, -0.007103837560862303, -0.004204579629004002, -0.018956685438752174, -0.01444381382316351, 0.031616341322660446, 0.010370422154664993, 0.016490347683429718, -0.004099629353731871, -0.01561138778924942, -0.03384653851389885, 0.004578466061502695, -0.01159703079611063, -0.011406808160245419, -0.026723023504018784, 0.012574383057653904, 0.00571652315557003, -0.03368911147117615, 0.010875496082007885, -0.008671536110341549, -0.011314976960420609, -0.004965471103787422, 0.009209406562149525, 0.026775497943162918, 0.03240346908569336, -0.015860645100474358, 0.021252477541565895, -0.0072875008918344975, -0.006834901869297028, 0.032901983708143234, -0.0163460411131382, -0.023994309827685356, 0.007608911953866482, -0.008704332634806633])\n"
          ]
        }
      ]
    },
    {
      "cell_type": "code",
      "source": [
        "print(len(vals))"
      ],
      "metadata": {
        "colab": {
          "base_uri": "https://localhost:8080/"
        },
        "id": "jWoR9zNY8HCM",
        "outputId": "49d42b39-aea5-4ad1-f721-26a9e5a7365f"
      },
      "execution_count": null,
      "outputs": [
        {
          "output_type": "stream",
          "name": "stdout",
          "text": [
            "1193\n"
          ]
        }
      ]
    },
    {
      "cell_type": "code",
      "source": [
        "for i in range(0, len(vals), 100):\n",
        "    try:\n",
        "       batch = vals[i:i + 100]\n",
        "\n",
        "        # Truncate IDs that are longer than 512 characters\n",
        "       truncated_batch = [(entry[0][:512], entry[1]) for entry in batch]\n",
        "\n",
        "        # Perform upsert with the truncated_batch\n",
        "       index.upsert(truncated_batch)\n",
        "     # index.upsert(vals[i:i+100])\n",
        "    except Exception as e:\n",
        "        print(f\"Error: {e}\")\n",
        "    print(f\"{i / len(vals) * 100:.2f}%\")\n"
      ],
      "metadata": {
        "colab": {
          "base_uri": "https://localhost:8080/"
        },
        "id": "wAY-yP3wHtC4",
        "outputId": "2ceb9a49-600d-4691-8317-2c0ddb701612"
      },
      "execution_count": null,
      "outputs": [
        {
          "output_type": "stream",
          "name": "stdout",
          "text": [
            "0.00%\n",
            "8.38%\n",
            "16.76%\n",
            "25.15%\n",
            "33.53%\n",
            "41.91%\n",
            "50.29%\n",
            "58.68%\n",
            "67.06%\n",
            "75.44%\n",
            "83.82%\n",
            "92.20%\n"
          ]
        }
      ]
    },
    {
      "cell_type": "code",
      "source": [
        "pinecone.whoami()"
      ],
      "metadata": {
        "colab": {
          "base_uri": "https://localhost:8080/"
        },
        "id": "9eloPn43OJ58",
        "outputId": "29aa0e56-4398-4f4a-e52f-f065021f3dd0"
      },
      "execution_count": null,
      "outputs": [
        {
          "output_type": "execute_result",
          "data": {
            "text/plain": [
              "WhoAmIResponse(username='1369d0e', user_label='default', projectname='45fda4f')"
            ]
          },
          "metadata": {},
          "execution_count": 23
        }
      ]
    },
    {
      "cell_type": "code",
      "source": [
        "query= 'hey ?'\n",
        "query_vector= get_embedding(query);"
      ],
      "metadata": {
        "id": "bXSwPlsKkPou"
      },
      "execution_count": 16,
      "outputs": []
    },
    {
      "cell_type": "code",
      "source": [
        "print(query_vector)"
      ],
      "metadata": {
        "colab": {
          "base_uri": "https://localhost:8080/"
        },
        "id": "V2mWm9CK2MG8",
        "outputId": "fb10970e-18f4-4dbc-bd2a-cf83f3f07da0"
      },
      "execution_count": 17,
      "outputs": [
        {
          "output_type": "stream",
          "name": "stdout",
          "text": [
            "[-0.014162718318402767, -0.006256283260881901, -0.02198469638824463, -0.038850028067827225, -0.025908678770065308, 0.029131023213267326, -0.010635032318532467, -0.005298026371747255, 0.005070643033832312, -0.008127321489155293, 0.01854146644473076, 0.0040604122914373875, -0.003498451318591833, 0.0021796294022351503, 0.0017167424084618688, 0.00211791112087667, 0.01426666509360075, -0.005954188760370016, 0.022101636976003647, -0.0207243449985981, 0.004141620825976133, 0.00302744354121387, 0.0043625072576105595, -0.021854763850569725, -0.008958893828094006, -0.009212263859808445, 0.02038651891052723, -0.01774887554347515, 0.016358589753508568, -0.03541978821158409, 0.01177194807678461, 0.017060229554772377, -0.036693133413791656, 0.0014958559768274426, -0.02334899641573429, -0.0069189430214464664, 0.0016436550067737699, -0.006704553030431271, 0.007536125369369984, -0.017216147854924202, 0.01198633760213852, -0.015527017414569855, -0.009192774072289467, -0.01607273705303669, -0.009153793565928936, 0.0032661957666277885, -0.006318001542240381, 0.0010573314502835274, -0.014227685518562794, 0.039603639394044876, 0.0238297488540411, 0.017969761043787003, -0.02237449586391449, -0.02996259555220604, -0.00749714532867074, -0.00468409201130271, 0.00010414957796456292, -0.00469058845192194, -0.009803459979593754, 0.001754098222590983, -0.007542622275650501, 0.0012749695451930165, -0.021348023787140846, 0.0017362323123961687, 0.00016942070215009153, 0.009881420060992241, 0.012960836291313171, 0.00858208816498518, -0.003314920701086521, 0.009329203516244888, 0.023050149902701378, 0.016033757477998734, 0.004508682060986757, -0.00982944667339325, 0.019606919959187508, -0.0033425316214561462, 0.0022900726180523634, -0.0006756526418030262, -0.01587783731520176, -0.0011596537660807371, 0.04344966262578964, -0.030976073816418648, -0.014773404225707054, 0.021412990987300873, 0.002917000325396657, 0.012369640171527863, -0.014370611868798733, 0.01987977884709835, -0.00919927004724741, -0.016904309391975403, 0.0012091908138245344, -0.00019418922602199018, 0.017995748668909073, 0.010134789161384106, -0.01551402360200882, 0.029364902526140213, -0.031157981604337692, 0.030508315190672874, -0.0024703550152480602, -0.00664933118969202, 0.0014406343689188361, 0.013513052836060524, -0.005889222025871277, -0.006691559683531523, -0.010758468881249428, -0.0019798572175204754, -0.004762051627039909, -0.019762840121984482, 0.020984211936593056, 0.0022900726180523634, -0.008153308182954788, 0.03133988752961159, 0.01578688435256481, -0.028637276962399483, -0.01425367221236229, -0.006603854708373547, -0.007620581891387701, 0.005697570741176605, -0.01702124811708927, -0.035263869911432266, 0.0008023374830372632, -0.0019425012869760394, 0.02293320931494236, 0.006996902637183666, 0.028273463249206543, -0.004869246389716864, -0.02586969919502735, 0.008815967477858067, 0.0007105721742846072, -0.008432664908468723, 0.0412667840719223, 0.008354704827070236, 0.01825561374425888, 0.00021337467478588223, -0.02659732475876808, 0.0043397690169513226, -0.003217470832169056, 0.023530902341008186, -0.03856417164206505, -0.03365269675850868, 0.009543593041598797, 0.020503459498286247, -0.0024297507479786873, 0.00971900299191475, -0.0019408771768212318, 0.02741590514779091, 0.018138675019145012, 0.0068604727275669575, 0.010225743055343628, 0.004476198460906744, -0.003755069337785244, -0.004797783214598894, 0.00546693941578269, -0.005674832500517368, 0.009706010110676289, 0.00878998078405857, -0.01876235380768776, 0.02858530357480049, -0.001880783005617559, -0.014955311082303524, -0.006789009552448988, -0.006789009552448988, 0.031963568180799484, -0.011297691613435745, -0.022751303389668465, 0.029416875913739204, 0.009991862811148167, 0.02751985192298889, 0.023400969803333282, 0.013012809678912163, 0.019671885296702385, 0.025349967181682587, -0.0403832383453846, 0.007594595197588205, -0.00456390343606472, 0.009939889423549175, 0.011544564738869667, 0.0002190592495026067, -0.03219744563102722, 0.0020935486536473036, -0.0230761356651783, 0.021218091249465942, 0.010076319798827171, 0.02920898236334324, -0.00348220975138247, 0.02848135679960251, 0.004810776561498642, 3.3066982723539695e-05, -0.014110744930803776, -0.034848082810640335, -0.01987977884709835, 0.024206554517149925, 0.00010343900794396177, -0.02516806125640869, -0.6931156516075134, -0.014552517794072628, 0.011239221319556236, 0.006613599602133036, 0.009095324203372002, 0.04074705019593239, 0.01244760025292635, 0.02043849229812622, -0.013175226747989655, 0.04560655355453491, -0.005769033916294575, 0.015747902914881706, 0.0019392529502511024, 0.0005067394813522696, 0.005213569384068251, -0.003004705300554633, 0.005619610659778118, -0.009777473285794258, 0.016280630603432655, -0.0025743015576153994, -0.020893258973956108, 0.0003506166103761643, -0.02562282606959343, 0.0236088614910841, 0.008913417346775532, -0.009803459979593754, 0.017294108867645264, -0.012545050121843815, -0.020737338811159134, 0.008731510490179062, -0.026896171271800995, 0.027182025834918022, -0.0021731327287852764, 0.005304522812366486, 0.05602719634771347, 0.010368669405579567, -0.006327746901661158, 0.022439463064074516, 0.005853490438312292, 0.057586394250392914, -0.007646568585187197, -0.029910622164607048, 0.004313782323151827, 0.004628870170563459, 0.006071128882467747, -0.0024037640541791916, 0.01425367221236229, 0.005330509506165981, 0.0014942317502573133, -0.005187583155930042, 0.014409591443836689, -0.011849907226860523, -0.0241415873169899, 0.005119367968291044, -0.016423556953668594, -0.0008673041011206806, 0.01767091453075409, -0.00469058845192194, 0.010687005706131458, 0.02385573461651802, -0.00975798349827528, 0.020347539335489273, -0.01282440684735775, -0.021880751475691795, -0.013032299466431141, 0.010030843317508698, -0.02892312966287136, -0.002111414447426796, -0.00289426208473742, -0.007074862718582153, -0.014695445075631142, 0.01954195275902748, -0.018840312957763672, -0.0012790298787876964, 0.0005635852576233447, 0.02579174004495144, 0.017008256167173386, -0.010829932056367397, 0.009939889423549175, 0.010043836198747158, 0.01112877856940031, -0.0031492558773607016, -0.02713005244731903, -0.004846508149057627, 0.032327380031347275, -0.02967674285173416, -0.009868426248431206, 0.0014690571697428823, 0.0012725332053378224, 0.007211292628198862, 0.027753731235861778, 0.01893126778304577, -0.0037063444033265114, -0.02164687030017376, -0.0034399814903736115, 0.0059054638259112835, -0.020893258973956108, 0.020659377798438072, 0.0022137367632240057, -0.008686034008860588, 0.0076400721445679665, -0.008016878738999367, -0.011739464476704597, -0.013578019104897976, 0.011609531007707119, 0.006266028620302677, -0.010297206230461597, 0.03905791789293289, 0.02004869282245636, -0.024349480867385864, 0.008634060621261597, 0.019217120483517647, -0.01800874061882496, -0.009641042910516262, 0.019399026408791542, -0.03180764615535736, 0.01374693214893341, 0.02494717389345169, 0.015293137170374393, -0.03066423535346985, 0.00767905218526721, -0.005148603115230799, 0.021049177274107933, -0.010920885019004345, 0.002946235239505768, 0.024375468492507935, -0.0017118698451668024, 0.006555129773914814, -0.027545837685465813, 0.00768554862588644, -0.0036673645954579115, -0.007328232284635305, 0.009972373023629189, -0.020113658159971237, 0.0049407100304961205, 0.0015307754511013627, 0.011323678307235241, -0.011427625082433224, 0.008036368526518345, -0.005980175454169512, -0.025401940569281578, 0.00404741894453764, -0.0005648033693432808, 0.0033295382745563984, 0.0020854277536273003, -0.011908377520740032, -0.020282572135329247, -0.004667850211262703, -0.007588098756968975, 0.014565511606633663, 0.0021958709694445133, -0.011778444051742554, -0.016423556953668594, 0.012681480497121811, 0.010790952481329441, -0.0031687458977103233, -0.015137217938899994, -0.008699027821421623, -0.014851364307105541, -0.012499573640525341, -0.0036543712485581636, 0.019892772659659386, -0.017268121242523193, -0.000722347351256758, 0.012648996897041798, -0.01392883900552988, -0.011187247931957245, 0.007354218978434801, -0.010381662286818027, -0.03401651233434677, 0.009153793565928936, -0.007815482094883919, -0.0030290677677839994, 0.015968790277838707, 0.0035796596202999353, 0.0069709159433841705, -0.01199933048337698, -0.01578688435256481, 0.0003079822927247733, -0.004278050735592842, -0.0047393133863806725, -0.005197328049689531, -0.015488036908209324, 0.00443072197958827, 0.012324163690209389, -0.006119853816926479, 0.009628050029277802, 0.05064795911312103, -0.005291529465466738, 0.010349179618060589, -0.007627078797668219, 0.014721431769430637, -0.012811413034796715, 0.0011637142160907388, -0.0009647539700381458, 0.004554158542305231, 0.006275773514062166, 0.006672069896012545, 0.01711220294237137, 0.0225434098392725, 0.03513393551111221, 0.00749714532867074, 0.023582875728607178, -0.031183967366814613, -0.014942318201065063, -0.023725802078843117, 0.006555129773914814, -0.024713294580578804, 0.0251160878688097, 0.020503459498286247, -0.007022889330983162, -0.013772918842732906, 0.016007769852876663, -0.009277230128645897, 0.01212276704609394, 0.031157981604337692, -0.01786581426858902, 0.009439647197723389, -0.027701757848262787, 0.009998359717428684, 0.011583544313907623, -0.010972858406603336, -0.005298026371747255, -0.007367212325334549, -0.00038188177859410644, 0.031677715480327606, 0.034848082810640335, 0.035991497337818146, 0.01216824445873499, -0.016540495678782463, -0.02887115627527237, 0.026246506720781326, 0.002900758758187294, 0.01573491096496582, -0.009835942648351192, -0.0004344641347415745, -0.0012936474522575736, -0.0069189430214464664, 0.0267142653465271, -0.0049407100304961205, 0.013383119367063046, 0.03295106068253517, 0.0497904010117054, -0.018671400845050812, 0.009257740341126919, 0.02116611786186695, 0.00900437030941248, -0.008042864501476288, 0.005707315634936094, 0.0026408922858536243, -0.017878808081150055, 0.011297691613435745, -0.006113356910645962, -0.006704553030431271, 0.02744189091026783, -0.022504430264234543, 0.0005867296131327748, 0.020503459498286247, 0.011401638388633728, 0.012291680090129375, 0.006633089855313301, 0.012986822985112667, 0.006428444758057594, -0.006551881320774555, 0.02172483131289482, -0.003072920022532344, 0.007692045532166958, 0.006548633333295584, 0.0051940795965492725, 0.02016563154757023, -0.023985669016838074, -0.009530600160360336, 0.020490465685725212, 0.0008957269601523876, 0.029001090675592422, -0.004875743295997381, 0.004797783214598894, 0.0043625072576105595, -0.01576089672744274, -0.0007069177809171379, -0.0058729806914925575, -0.050024282187223434, 0.003116772510111332, 0.02615555189549923, -0.00723078241571784, -0.00273671792820096, -0.033055007457733154, -0.001112553058192134, 0.002535321516916156, -0.00592170562595129, -0.006561626680195332, 0.010998845100402832, 0.004333272110670805, -0.016423556953668594, 0.001137727522291243, 0.0026685029733926058, 0.03331487253308296, -0.0002752959553617984, 0.015591983683407307, -0.01100534200668335, -0.011096294969320297, 0.007334729190915823, 0.00023915829660836607, -0.011836914345622063, -0.018216634169220924, 0.0013293790398165584, 0.00423582224175334, -0.012200727127492428, 0.01075197197496891, 0.008406678214669228, -0.023725802078843117, 0.011479598470032215, -0.001542144687846303, 0.0060061621479690075, 0.009459136985242367, -0.012057800777256489, -0.014292651787400246, -0.004995931405574083, 0.018333574756979942, -0.012610017322003841, -0.011551061645150185, -0.020659377798438072, -0.002889389405027032, -0.01842452771961689, 0.07645269483327866, 0.016163690015673637, -0.010914389044046402, 0.016176683828234673, -0.005885974038392305, 0.010115299373865128, -0.016397569328546524, -0.019866786897182465, -0.008958893828094006, -0.008939404040575027, -0.013383119367063046, -0.01483837142586708, -0.009725499898195267, 0.01237613707780838, 0.014890344813466072, 0.006051638629287481, 0.016228657215833664, -0.001965239644050598, -0.013837886042892933, -0.007614085450768471, -0.010453125461935997, -0.009244747459888458, 0.017398055642843246, 0.02366083487868309, 0.010492105968296528, 0.007276258897036314, 0.012369640171527863, 0.025220034644007683, -0.01898324117064476, -0.029079049825668335, -0.004281298723071814, -0.0019554945174604654, 0.021958710625767708, -0.008854947052896023, -0.0028211744502186775, 0.006386216729879379, 0.006743533071130514, 0.0022462201304733753, 0.015267150476574898, -0.009069337509572506, 0.020841285586357117, 0.034146443009376526, 0.01425367221236229, -0.023050149902701378, 0.017424041405320168, -0.005989920347929001, -0.005353247746825218, 0.022517424076795578, -0.008952396921813488, 0.00936818402260542, 0.04196842387318611, 0.021010197699069977, -0.03604346886277199, -0.016280630603432655, -0.004492440260946751, 0.0035894045140594244, -0.016371583566069603, -0.025051120668649673, -0.01535810437053442, -0.020854277536273003, 0.017320094630122185, -0.009608560241758823, -0.00331816915422678, -0.0040181842632591724, -0.012967333197593689, -0.03146982192993164, -0.011278201825916767, 0.012499573640525341, -0.011063811369240284, 0.00455740699544549, -0.003498451318591833, 0.0030826651491224766, -0.02225755713880062, 0.0015259030042216182, 0.015578990802168846, 0.019035212695598602, -0.0041188825853168964, 0.0055936239659786224, 0.026922158896923065, 0.011908377520740032, -0.009589070454239845, -0.036693133413791656, 0.011011838912963867, -0.02097121812403202, -0.0015064129838719964, 0.0040181842632591724, -0.011564054526388645, -0.004073405638337135, -0.015007284469902515, 0.029053062200546265, 0.0314178466796875, 0.0028650269377976656, 0.005889222025871277, -0.03261323273181915, -0.009926896542310715, -0.007666058838367462, 0.016111716628074646, 0.011784940958023071, -0.0019603671971708536, -0.01781384088099003, 0.000875424942933023, -0.0011482846457511187, -0.00911481399089098, -0.013136246241629124, -0.0011994458036497235, 0.016670430079102516, 0.00029011646984145045, 0.015643956139683723, -0.022634362801909447, 0.003833029419183731, 0.03502998873591423, -0.019931752234697342, -0.0026051606982946396, 0.006074376869946718, 0.014227685518562794, 0.005554644390940666, -0.01230467390269041, 0.02225755713880062, -0.005801517516374588, -0.02657133899629116, 0.012382633984088898, -0.06553830206394196, 0.010271219536662102, 0.018463507294654846, 0.011258712038397789, 0.005203824490308762, 0.0008453778573311865, -0.042098354548215866, 0.0005144542665220797, -0.0005522160790860653, 0.008647054433822632, 0.018333574756979942, -0.01590382307767868, -0.03295106068253517, -0.017177168279886246, -0.019360046833753586, 0.0039012443739920855, 0.0196588933467865, 0.0009347069426439703, -0.012285184115171432, -0.016306616365909576, -0.009160290472209454, -0.0036965995095670223, -0.02407662197947502, -0.02114013209939003, -0.042436182498931885, -0.02007467858493328, 0.018996233120560646, -8.531941421097144e-05, 0.009316210635006428, -0.01316223293542862, 0.0018304339610040188, -0.031963568180799484, -0.019139159470796585, 0.003240209072828293, -0.02419356070458889, -0.010661019012331963, 0.01094687171280384, 0.022166604176163673, 0.009530600160360336, 0.01767091453075409, 0.012999816797673702, -0.008978383615612984, -0.010264722630381584, -0.006457679904997349, 0.0019538705237209797, 0.0017346082022413611, 0.003012825967743993, -0.018606433644890785, 0.011557557620108128, 0.030976073816418648, 0.025272006168961525, -0.01216824445873499, 0.02189374342560768, -0.004008439369499683, 0.004427473526448011, -6.608321564272046e-05, -0.0011986338067799807, -0.013720945455133915, -0.016033757477998734, 0.007237279321998358, -0.0017622190061956644, 0.0001955088519025594, -0.016956282779574394, 0.0008039616513997316, 0.016111716628074646, 0.025207040831446648, 0.02082829177379608, 0.014669458381831646, 0.004703581798821688, 0.01059605274349451, -0.01537109725177288, 0.030534300953149796, -0.00044014869490638375, 0.01774887554347515, -0.009010867215692997, -0.006168578751385212, 0.0050511532463133335, -0.003384759882465005, 0.01164851151406765, 0.005424710921943188, 0.009550089947879314, -0.00767905218526721, -0.004687339998781681, -0.004148117266595364, 0.013032299466431141, -0.019814813509583473, -0.010069822892546654, -0.01157704833894968, -0.0019489979604259133, -0.011687491089105606, -0.017099209129810333, -0.030144501477479935, -0.019957739859819412, 0.00331816915422678, 0.009848936460912228, -0.026116572320461273, 0.01551402360200882, -0.02108815871179104, -0.038096413016319275, 0.012330660596489906, 0.008692530915141106, 0.01677437499165535, 0.01444857195019722, 0.025804733857512474, 0.006814996246248484, 0.0016777623677626252, -0.020516451448202133, 0.01139514148235321, -0.0031719941180199385, 0.010271219536662102, 0.020087672397494316, 0.004115634132176638, -0.007718031760305166, -0.018151666969060898, 0.013142743147909641, -0.003115148516371846, -0.004979689605534077, -0.018918273970484734, -0.002067561959847808, 0.010940375737845898, -0.01803472824394703, -0.012765936553478241, -0.0021633878350257874, 0.007484151981770992, 0.023738795891404152, 0.03261323273181915, 0.010128293186426163, -0.011758954264223576, -0.013837886042892933, -0.014630477875471115, 0.028299450874328613, -0.01741104945540428, 0.008900424465537071, 0.015591983683407307, -0.010907892137765884, -0.013811899349093437, -0.0004892796860076487, 0.004073405638337135, 0.026610318571329117, -0.0025109590496867895, 0.03001456893980503, -0.01854146644473076, 0.0318596214056015, 0.008906920440495014, -0.008029871620237827, -0.03001456893980503, -0.0022137367632240057, 0.0024151334073394537, 0.010764965787529945, -0.02668827958405018, -0.0011823921231552958, -0.001858044764958322, 0.003959714435040951, 0.0017086215084418654, 0.008081845007836819, -0.01516320463269949, -0.015721917152404785, -0.016813356429338455, -0.009400666691362858, 0.02460934780538082, 0.009277230128645897, -0.0006407331093214452, -0.004560655448585749, -0.028455371037125587, -0.02525901421904564, -0.0320415273308754, 0.005242804531008005, -0.00110605638474226, -0.0012278687208890915, -0.013967818580567837, -0.007795991841703653, 0.0042390706948935986, 0.014890344813466072, 0.013194716535508633, -0.008796477690339088, 0.03030042164027691, 0.006175075192004442, -0.024180568754673004, 0.002241347683593631, 0.0011401638621464372, -0.0028081813361495733, -0.027649784460663795, 0.002947859466075897, 0.0028910136315971613, -0.04334571585059166, 0.022842256352305412, 0.010141286067664623, -0.017086215317249298, 0.00044989370508119464, 0.011544564738869667, 0.009134303778409958, -0.00214877026155591, 0.004781541880220175, 0.04578845947980881, 0.004466453567147255, 0.008673041127622128, -0.035939522087574005, -0.02273830957710743, 0.013941831886768341, -0.020477471873164177, 0.013370126485824585, 0.004736064933240414, 0.007198299281299114, 0.004612628370523453, -0.017047235742211342, 0.02334899641573429, -0.01660546287894249, -0.033782631158828735, -0.020009713247418404, 0.004762051627039909, 0.012960836291313171, 0.006386216729879379, -0.012733452953398228, -0.005242804531008005, -0.01003733929246664, -0.018996233120560646, 0.027363931760191917, 0.00044542725663632154, -0.015864843502640724, 0.01900922693312168, 0.015150210820138454, -0.024674315005540848, 0.006207558326423168, 0.010128293186426163, -0.002484972355887294, -0.0020188370253890753, -0.006210806779563427, -0.027026105672121048, -0.01898324117064476, 0.005236308090388775, 0.020516451448202133, 0.001194573356769979, -0.023452941328287125, -0.019282085821032524, 0.015565996989607811, -0.009602063335478306, -0.013240193016827106, 0.006305008661001921, 0.011687491089105606, 0.011135275475680828, 0.004853005055338144, -0.013331145979464054, 0.012044807896018028, 0.001650151563808322, 0.01164851151406765, -0.006168578751385212, 0.0009485123446211219, 0.016254642978310585, 0.002772449515759945, 0.01180443074554205, -0.0006553505663760006, -0.04004541039466858, -0.012278687208890915, 0.008712020702660084, -0.01446156483143568, -0.012044807896018028, 0.009868426248431206, -0.009225256741046906, -0.009946386329829693, -0.003517941338941455, -0.011031328700482845, -0.01694328896701336, 0.017852822318673134, 0.0046158768236637115, -0.022335516288876534, -0.009179780259728432, 0.011778444051742554, -0.0016298495465889573, -0.007821978069841862, 0.012382633984088898, 0.018918273970484734, 0.0018970246892422438, 0.0075166355818510056, -0.016566483303904533, -0.018970247358083725, 0.01294784341007471, -0.01641056314110756, 0.03172968700528145, 0.007211292628198862, -0.00658111646771431, 0.030820155516266823, -0.008302731439471245, -6.796115485485643e-05, -0.037446748465299606, 0.014201698824763298, -0.024440433830022812, 0.010310199111700058, 0.005681328941136599, -0.006418699864298105, -0.02310212329030037, 0.008049361407756805, -0.00669805658981204, -0.0070943525061011314, 0.005450697615742683, -0.022777289152145386, -0.00469058845192194, 0.00036726429243572056, 0.010063325986266136, 0.010654522106051445, -0.0007422433700412512, 0.0034302363637834787, -0.0013090770225971937, -0.00221211276948452, -0.009550089947879314, 0.0030355644412338734, 0.005372737534344196, -0.012408620677888393, 0.006132847163826227, 0.030560288578271866, -0.02021760493516922, -0.026636306196451187, 0.0026002880185842514, 0.0212570708245039, 0.011784940958023071, 0.012746446765959263, 0.20165632665157318, 0.00891991425305605, 0.007912931963801384, 0.04513879120349884, -0.012791923247277737, -0.009861929342150688, 0.01646253652870655, 0.009082330390810966, 0.0033262898214161396, 0.005947692319750786, -0.004969944711774588, 0.013435092754662037, -0.03063824772834778, -0.009231753647327423, 0.01895725354552269, -0.008354704827070236, -0.02674025297164917, -0.016670430079102516, -0.017826834693551064, 0.003608894534409046, -0.014890344813466072, -0.005268791224807501, -0.026896171271800995, -0.0037745593581348658, 0.019944746047258377, 0.003592652967199683, 0.0020496961660683155, 0.009446143172681332, 0.02533697336912155, 0.002762704622000456, -0.010141286067664623, -0.02509010024368763, 0.003833029419183731, 0.020230598747730255, -0.006473921705037355, -0.007113842759281397, 0.008302731439471245, -0.006672069896012545, 0.031131993979215622, 0.0013228823663666844, 0.010674011893570423, 0.011304188519716263, -0.006983909290283918, -0.020035699009895325, -0.0017216148553416133, -0.00957607664167881, -0.005181086249649525, -0.028403397649526596, 0.0018336822977289557, 0.024635333567857742, -0.02271232381463051, 0.007821978069841862, 0.02889714390039444, 0.03687504306435585, -0.008270247839391232, -0.004820521455258131, 0.008744504302740097, -0.0015372721245512366, -0.009296719916164875, 0.009511110372841358, 0.0010695126838982105, 0.03069022111594677, -0.019087186083197594, 0.004719823598861694, -0.01518919039517641, 0.01856745406985283, -0.013331145979464054, -0.005356496199965477, 7.349346560658887e-05, -0.0058047655038535595, -0.018827321007847786, 0.0009428277844563127, 0.009907406754791737, -0.005889222025871277, -0.03477012366056442, -0.01900922693312168, 0.01216824445873499, 0.019022220745682716, 0.019801819697022438, 0.035991497337818146, -0.0028975103050470352, -0.008432664908468723, -0.00936818402260542, -0.011629020795226097, -0.023764781653881073, -0.025934666395187378, 0.019970731809735298, -0.0013651106273755431, 0.005648845806717873, -0.003631632775068283, -0.008231268264353275, -0.014669458381831646, -0.0021374011412262917, -0.0006082498002797365, 0.021971704438328743, 0.03323691338300705, -0.00723078241571784, 0.02744189091026783, -0.005515664350241423, 0.02472628839313984, -0.002522328170016408, -0.04682792350649834, 0.007614085450768471, 0.005749544128775597, -0.011921371333301067, 0.014370611868798733, -0.019230112433433533, 0.00023509787570219487, 0.0050933812744915485, -0.01702124811708927, -0.019580932334065437, -0.022647356614470482, 0.007289252243936062, 0.006412203423678875, 0.016566483303904533, 0.010017849504947662, 0.00663633830845356, -0.014344625174999237, -0.002588918898254633, 0.004183848854154348, 0.01444857195019722, -0.015202184207737446, -0.008419671095907688, 0.001109304721467197, 0.006561626680195332, -0.02380376122891903, -0.011668001301586628, -0.003855767659842968, 0.010245232842862606, -0.022049663588404655, 0.005720308981835842, -0.018437521532177925, 0.02480424754321575, -0.0034562230575829744, -0.00991390272974968, -0.006802002899348736, 0.00801038183271885, -0.006782513111829758, -0.011102791875600815, 0.0003422927693463862, 0.005158348008990288, -0.01648852229118347, -0.013188219629228115, 0.009049846790730953, 0.002778946189209819, -0.04259210079908371, 0.02191973105072975, 0.0022998175118118525, -0.019866786897182465, -0.00813381839543581, -0.02926095575094223, -0.01893126778304577, -0.007503642234951258, 0.008179294876754284, 0.025934666395187378, -0.013233696110546589, -0.01806071400642395, -0.02668827958405018, 0.002652261406183243, 0.008679538033902645, 0.007555615622550249, 0.017618941143155098, 0.03289908543229103, -0.011629020795226097, -0.018775347620248795, -0.029884636402130127, -0.16787369549274445, 0.041370730847120285, 0.022634362801909447, -0.011434121057391167, 0.03188560530543327, 0.019113173708319664, 0.01657947525382042, -0.011115784756839275, -0.003751821117475629, 0.012928353622555733, 0.020009713247418404, -0.004323527216911316, -0.02651936560869217, -0.01876235380768776, -0.031651727855205536, -0.002843912923708558, 0.0028114295564591885, 0.017463020980358124, 0.0201916191726923, 0.024518394842743874, 0.05524759739637375, -0.01425367221236229, 0.02547989971935749, 0.003012825967743993, -0.004187097307294607, 0.005642348900437355, 0.014851364307105541, 0.008673041127622128, -0.003491954645141959, 0.004966696724295616, -0.02470030076801777, -0.005129112862050533, -0.0026506371796131134, 0.005424710921943188, -0.0018158163875341415, -0.004050667397677898, 0.004336520563811064, -0.033106978982686996, -0.02080230414867401, 0.03250928595662117, 0.020464478060603142, 0.012220216915011406, -0.0014178960118442774, -0.007594595197588205, -0.021802790462970734, 0.03069022111594677, 0.0062822699546813965, -0.006464176811277866, 0.008335215039551258, -0.010193259455263615, 0.0025255766231566668, -0.021607890725135803, 0.00461912527680397, -0.000436088303104043, 0.01772288791835308, 0.023024162277579308, 0.004911474883556366, 0.027701757848262787, 0.002660382306203246, -0.004151365719735622, 0.001583560835570097, -0.016670430079102516, 0.027987610548734665, -0.0024411198683083057, 0.004664601758122444, -0.015436063520610332, -0.012200727127492428, 0.006207558326423168, -0.03154778108000755, 0.007958408445119858, 0.0014609363861382008, -0.022998176515102386, -0.01444857195019722, -0.03263922035694122, 0.007341225631535053, 0.01374693214893341, -0.025557860732078552, 0.0039044925943017006, -0.006672069896012545, -0.001343184383586049, 0.003742075990885496, 0.03723885491490364, -0.0038070427253842354, 0.03211948648095131, 0.0011352912988513708, 0.008172797970473766, 0.007542622275650501, -0.01100534200668335, -0.013941831886768341, -0.017631934955716133, 0.01895725354552269, -0.028351424261927605, 0.010030843317508698, 0.00020626894547604024, 0.011765451170504093, 0.020425498485565186, 0.021828778088092804, -0.001150720869190991, -0.00036401598481461406, -0.01002434641122818, 0.004856253508478403, -0.010004856623709202, -0.012103277258574963, 0.015578990802168846, 0.01316223293542862, 0.010420642793178558, 0.005717060528695583, 0.015890829265117645, 0.021231085062026978, -0.01769690215587616, -0.009296719916164875, 0.010492105968296528, 0.01612471044063568, 0.03866811841726303, -0.01036217249929905, 0.02077631838619709, 0.009420156478881836, -0.01696927659213543, 0.014500545337796211, -0.018515480682253838, 0.04771146923303604, 0.007282755803316832, -0.005041407886892557, -0.014929324388504028, -0.002947859466075897, -0.011616027913987637, -0.09734595566987991, -0.05101177468895912, 0.013591012917459011, 0.0028406644705682993, -0.015267150476574898, 0.02220558375120163, 0.008608073927462101, 0.00033863840508274734, -0.01702124811708927, 0.02819550409913063, 0.011797934770584106, -0.019983725622296333, -0.009621553122997284, -0.009933393448591232, 0.031651727855205536, -0.02642841264605522, -0.012291680090129375, 0.011044321581721306, -0.018411533907055855, 0.012584030628204346, 0.00456390343606472, -0.02004869282245636, -0.0027643288485705853, -0.0030453093349933624, -0.023751787841320038, 0.004511930514127016, -0.014864358119666576, 0.023842742666602135, 0.018944259732961655, 0.0043040369637310505, -0.010953368619084358, -0.017463020980358124, -0.004667850211262703, -0.009855433367192745, -0.013038796372711658, -0.010706495493650436, -0.04921869561076164, 0.0006675317999906838, -0.001697252388112247, -0.05246702581644058, 0.009835942648351192, 0.027883663773536682, -0.0008965390734374523, -0.023985669016838074, -0.0065161497332155704, 0.0006959547172300518, -0.00696441950276494, 0.01769690215587616, 0.00560661731287837, -0.01719016209244728, -0.015033271163702011, -0.0026587580796331167, -0.015332117676734924, -0.003495203098282218, 0.02225755713880062, -0.017294108867645264, -0.0020188370253890753, 0.02150394394993782, -0.013993805274367332, 0.025207040831446648, 0.0062822699546813965, -0.00221211276948452, -0.02433648891746998, 0.02245245687663555, -0.005879477132111788, -0.01230467390269041, -0.0060061621479690075, -0.005041407886892557, 0.010056829079985619, -0.011245718225836754, -0.02181578427553177, -0.0029121278785169125, -0.006873466074466705, 0.009991862811148167, -0.03440631181001663, 0.014396598562598228, -0.02295919694006443, -0.032275404781103134, -0.0006967667723074555, -0.017177168279886246, -0.00599316880106926, -0.02334899641573429, 0.004511930514127016, 0.0008916665683500469, 0.01876235380768776, -0.0018564205383881927, 0.0027415903750807047, -0.022023677825927734, 0.0031914841383695602, -0.03146982192993164, -0.014851364307105541, 0.023024162277579308, 0.010381662286818027, -0.009777473285794258, 0.009218760766088963, 0.002215360989794135, -0.010206252336502075, -0.010622038505971432, 0.020763324573636055, -0.005311019252985716, -0.024999147281050682, -0.01446156483143568, -0.04662002995610237, 0.026506371796131134, -0.023232055827975273, 0.00192138715647161, 0.02108815871179104, -0.018073707818984985, 0.008140315301716328, -0.006353733595460653, -0.006223800126463175, -0.008965390734374523, -0.00936818402260542, 0.005385730881243944, 0.0009899286087602377, 0.0002982372825499624, -0.02822148986160755, -0.03604346886277199, 0.026818212121725082, 0.02416757494211197, 0.027233999222517014, 0.02164687030017376, 0.006840982940047979, -0.03157376870512962, -0.00048115887329913676, -0.02060740441083908, 0.01048560906201601, 0.009550089947879314, -0.013759925961494446, -0.0019360046135261655, -0.0056391009129583836, -0.01847650110721588, 0.007653065491467714, -0.03534182906150818, 0.007276258897036314, 0.01680036261677742, 0.0006139343604445457, -0.01353903952986002, 0.01309076976031065, 0.025194047018885612, 0.008341711014509201, 0.019139159470796585, -0.01699526235461235, -0.01845051348209381, 0.006480418145656586, -0.01047261618077755, 0.0014560639392584562, -0.006951426155865192, -0.023232055827975273, 0.016358589753508568, 0.03492604196071625, -0.0052850330248475075, 0.03804444149136543, 0.02004869282245636, -0.003201229264959693, -0.024570368230342865, -0.017514994367957115, -0.023336002603173256, -0.018580447882413864, 0.0068279895931482315, 0.0038947477005422115, -0.01856745406985283, 0.021023191511631012, 0.020373525097966194, 0.01811268739402294, -0.0008997874101623893, 0.004135123919695616, 0.005203824490308762, -0.01062853541225195, 0.018944259732961655, -0.006477169692516327, -0.027285970747470856, -0.008049361407756805, -0.015838857740163803, -0.009030357003211975, -0.003495203098282218, 0.01236314419656992, 0.019139159470796585, -0.0023274284321814775, -0.019528958946466446, -0.008523617871105671, 0.03534182906150818, 0.02654535323381424, -0.009764479473233223, -0.02855931781232357, 0.0017281115287914872, 0.02623351290822029, 0.013168729841709137, -0.00877698790282011, 0.003625136334449053, -0.016007769852876663, 0.020516451448202133, -0.03427637740969658, -0.00456390343606472, -0.0027610803954303265, 0.01289587002247572, 0.0008794853347353637, 0.007802488747984171, -0.004872494842857122, 0.002035078825429082, 0.018632421270012856, 0.025609834119677544, 0.011232725344598293, 0.007984395138919353, -0.004213084001094103, -0.022270550951361656, -0.025349967181682587, 0.018463507294654846, -0.01184341125190258, -0.024869214743375778, -0.01157704833894968, 0.007347722537815571, 0.01929507963359356, 0.005307771265506744, 0.024882206693291664, 0.015591983683407307, -0.013370126485824585, -0.0042293258011341095, -0.015241163782775402, 0.004180600866675377, -0.021594896912574768, 0.0063504851423203945, -0.0014804264064878225, 0.00436900369822979, 0.024661321192979813, -0.003113524289801717, 0.02312810905277729, -0.005346751306205988, -0.009868426248431206, -0.005057649686932564, 0.009426653385162354, -0.009426653385162354, 0.015838857740163803, -0.0007008271641097963, -0.02533697336912155, -0.013155736029148102, -0.02923496998846531, 0.018827321007847786, -0.01565694995224476, 0.015488036908209324, -0.019230112433433533, 0.07962306588888168, -0.004521675407886505, 0.0035601695999503136, 0.01789180189371109, 0.0227642972022295, 0.018333574756979942, 0.01811268739402294, -0.012772433459758759, -0.034432295709848404, -0.012018821202218533, -0.0009330827742815018, -0.024180568754673004, 0.008140315301716328, -0.02528499998152256, -0.010758468881249428, -0.01537109725177288, 0.000100545963505283, -0.005522160790860653, -0.006802002899348736, 0.0015478292480111122, -0.011044321581721306, -0.0012481707381084561, 0.003527686232700944, 0.0009541969047859311, -0.01585184969007969, -0.011037825606763363, 0.012174740433692932, -0.011830417439341545, -0.0414486899971962, -0.027156038209795952, -0.0061490884982049465, 0.011596538126468658, -0.00995288323611021, 0.008036368526518345, 0.01733308844268322, -0.013448085635900497, -0.01203831098973751, -0.0001855608425103128, 0.004144868813455105, 0.01587783731520176, 0.025129079818725586, 0.014851364307105541, -0.015085244551301003, -0.023037156090140343, 0.007984395138919353, -0.0017687156796455383, -0.017073221504688263, 0.008731510490179062, -0.011953854002058506]\n"
          ]
        }
      ]
    },
    {
      "cell_type": "code",
      "source": [
        "print(len(query_vector))"
      ],
      "metadata": {
        "colab": {
          "base_uri": "https://localhost:8080/"
        },
        "id": "hcyGQ2w-4Aj2",
        "outputId": "fcbfe914-1663-47c7-f526-0812d8825025"
      },
      "execution_count": null,
      "outputs": [
        {
          "output_type": "stream",
          "name": "stdout",
          "text": [
            "1536\n"
          ]
        }
      ]
    },
    {
      "cell_type": "code",
      "source": [
        "num_results = 10\n",
        "results = index.query(queries=[query_vector], top_k=num_results)"
      ],
      "metadata": {
        "id": "lZSjy7e02Phe"
      },
      "execution_count": 19,
      "outputs": []
    },
    {
      "cell_type": "code",
      "source": [
        "print(results)"
      ],
      "metadata": {
        "colab": {
          "base_uri": "https://localhost:8080/"
        },
        "id": "lg8HWcE13VYa",
        "outputId": "1827b138-4b5c-4eb0-80a3-bb8256555861"
      },
      "execution_count": 20,
      "outputs": [
        {
          "output_type": "stream",
          "name": "stdout",
          "text": [
            "{'results': [{'matches': [{'id': 'Hey !!', 'score': 0.940248609, 'values': []},\n",
            "                          {'id': 'Hey !! ', 'score': 0.929555416, 'values': []},\n",
            "                          {'id': 'Hey ', 'score': 0.92285347, 'values': []},\n",
            "                          {'id': 'Hi ', 'score': 0.884514, 'values': []},\n",
            "                          {'id': 'Hey Hi', 'score': 0.881471455, 'values': []},\n",
            "                          {'id': 'Hey', 'score': 0.878693581, 'values': []},\n",
            "                          {'id': 'Hiii', 'score': 0.871766, 'values': []},\n",
            "                          {'id': \"Hey ! Hope you're doing well \",\n",
            "                           'score': 0.871497929,\n",
            "                           'values': []},\n",
            "                          {'id': 'How are you ?',\n",
            "                           'score': 0.870068133,\n",
            "                           'values': []},\n",
            "                          {'id': 'Hi hello ',\n",
            "                           'score': 0.868791401,\n",
            "                           'values': []}],\n",
            "              'namespace': ''}]}\n"
          ]
        }
      ]
    },
    {
      "cell_type": "code",
      "source": [],
      "metadata": {
        "id": "9rnT_eP7z_VP"
      },
      "execution_count": null,
      "outputs": []
    }
  ]
}